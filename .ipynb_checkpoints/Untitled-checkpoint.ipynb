{
 "cells": [
  {
   "cell_type": "code",
   "execution_count": 1,
   "metadata": {},
   "outputs": [
    {
     "name": "stdout",
     "output_type": "stream",
     "text": [
      "Finite Field of size 31\n",
      "Finite Field of size 127\n",
      "Finite Field of size 8191\n",
      "Finite Field of size 131071\n"
     ]
    }
   ],
   "source": [
    "p1 = 31\n",
    "fp1 = GF(p1)\n",
    "print(fp1)\n",
    "\n",
    "p2 = 127\n",
    "fp2 = GF(p2)\n",
    "print(fp2)\n",
    "\n",
    "p3 = 8191\n",
    "fp3 = GF(p3)\n",
    "print(fp3)\n",
    "\n",
    "p4 = 131071\n",
    "fp4 = GF(p4)\n",
    "print(fp4)"
   ]
  },
  {
   "cell_type": "code",
   "execution_count": null,
   "metadata": {},
   "outputs": [],
   "source": []
  }
 ],
 "metadata": {
  "kernelspec": {
   "display_name": "SageMath 8.0",
   "language": "",
   "name": "sagemath"
  },
  "language_info": {
   "codemirror_mode": {
    "name": "ipython",
    "version": 2
   },
   "file_extension": ".py",
   "mimetype": "text/x-python",
   "name": "python",
   "nbconvert_exporter": "python",
   "pygments_lexer": "ipython2",
   "version": "2.7.14+"
  }
 },
 "nbformat": 4,
 "nbformat_minor": 2
}
