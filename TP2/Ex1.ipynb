{
 "cells": [
  {
   "cell_type": "code",
   "execution_count": 1,
   "metadata": {},
   "outputs": [],
   "source": [
    "def randomprime(i):\n",
    "    return random_prime(2**i-1,True,2**(i-1))"
   ]
  },
  {
   "cell_type": "code",
   "execution_count": null,
   "metadata": {},
   "outputs": [],
   "source": [
    "l = 2048\n",
    "\n",
    "q = randomprime(l)\n",
    "p = randomprime(l)\n",
    "\n",
    "n = p * q\n",
    "phi = (p-1)*(q-1)\n",
    "\n",
    "e = ZZ.random_element(phi)\n",
    "R = IntegerModRing(n)\n",
    "\n",
    "while gcd(e, phi) != 1:\n",
    "    e = ZZ.random_element(phi)\n",
    "\n",
    "bezout = xgcd(e,phi)\n",
    "d = Integer(mod(bezout[1],phi));"
   ]
  },
  {
   "cell_type": "code",
   "execution_count": null,
   "metadata": {},
   "outputs": [],
   "source": [
    "# Public key\n",
    "(n,e)"
   ]
  },
  {
   "cell_type": "code",
   "execution_count": null,
   "metadata": {},
   "outputs": [],
   "source": [
    "# Private key\n",
    "(p,q,d)"
   ]
  },
  {
   "cell_type": "code",
   "execution_count": null,
   "metadata": {},
   "outputs": [],
   "source": [
    "import hashlib\n",
    "import binascii\n",
    "\n",
    "from sage.crypto.util import bin_to_ascii\n",
    "from random import SystemRandom\n",
    "\n",
    "nBits = 1024\n",
    "k0BitsInt = 256\n",
    "k0BitsFill = '0256b'\n",
    "encoding = 'utf-8'\n",
    "\n",
    "oracle1 = hashlib.sha256()\n",
    "oracle2 = hashlib.sha256()\n",
    "\n",
    "def CharsToBinary(msg):\n",
    "    bits = bin(int(binascii.hexlify(msg), 16))\n",
    "    return bits\n",
    "\n",
    "def BinaryToChars(bits):\n",
    "    r = bin_to_ascii(bits)\n",
    "    return r\n",
    "    \n",
    "def paddingOAEP(msg):\n",
    "  \n",
    "    randBitStr = format(SystemRandom().getrandbits(k0BitsInt), k0BitsFill)\n",
    "    binMsg = CharsToBinary(msg)\n",
    "    \n",
    "    if len(binMsg) <= (nBits-k0BitsInt):\n",
    "        k1Bits = nBits - k0BitsInt - len(binMsg) \n",
    "        zeroPaddedMsg = binMsg + ('0'*k1Bits)\n",
    "    \n",
    "    oracle1.update(randBitStr.encode(encoding))\n",
    "    x = format(int(zeroPaddedMsg, 2) ^^ int(oracle1.hexdigest(), 16), '0768b')\n",
    "    oracle2.update(x.encode(encoding))\n",
    "    y = format(int(randBitStr, 2) ^^ int(oracle2.hexdigest(), 16), k0BitsFill)\n",
    "\n",
    "    return x+y\n",
    "\n",
    "def unpad(msg):\n",
    "\n",
    "    x = msg[0:768]\n",
    "    y = msg[768:]\n",
    "\n",
    "    oracle2.update(x.encode(encoding))\n",
    "    r = format(int(y,2) ^^ int(oracle2.hexdigest(), 16), k0BitsFill)\n",
    "\n",
    "    oracle1.update(r.encode(encoding))\n",
    "    msgWith0s = format(int(x,2) ^^ int(oracle1.hexdigest(), 16), '0768b')\n",
    "\n",
    "    msg = BinaryToChars(msgWith0s)\n",
    "    return msg"
   ]
  },
  {
   "cell_type": "code",
   "execution_count": null,
   "metadata": {},
   "outputs": [],
   "source": [
    "def encrypt(msg):\n",
    "    msgWithPad = paddingOAEP(msg)\n",
    "    m = '0b' + msgWithPad\n",
    "    zz = ZZ(m)\n",
    "    a = R(zz)\n",
    "    ct = a**e\n",
    "    return ct\n",
    "\n",
    "def decpryt(ct):\n",
    "    b = R(ct)\n",
    "    dm = b**d\n",
    "    zz = ZZ(dm)\n",
    "    inteiro = Integer(zz)\n",
    "    m1 = inteiro.binary()\n",
    "    m = '00'+ m1\n",
    "    msg = unpad(m)\n",
    "    return msg"
   ]
  },
  {
   "cell_type": "code",
   "execution_count": null,
   "metadata": {
    "scrolled": true
   },
   "outputs": [],
   "source": [
    "from random import randint\n",
    "\n",
    "msg = \"Hello world\"\n",
    "\n",
    "ct = encrypt(msg)\n",
    "m = decpryt(ct)\n",
    "\n",
    "print(msg == m)"
   ]
  }
 ],
 "metadata": {
  "kernelspec": {
   "display_name": "SageMath 9.0",
   "language": "sage",
   "name": "sagemath"
  },
  "language_info": {
   "codemirror_mode": {
    "name": "ipython",
    "version": 3
   },
   "file_extension": ".py",
   "mimetype": "text/x-python",
   "name": "python",
   "nbconvert_exporter": "python",
   "pygments_lexer": "ipython3",
   "version": "3.7.3"
  }
 },
 "nbformat": 4,
 "nbformat_minor": 4
}
