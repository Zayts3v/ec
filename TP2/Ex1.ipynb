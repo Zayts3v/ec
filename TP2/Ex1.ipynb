{
 "cells": [
  {
   "cell_type": "code",
   "execution_count": 1,
   "metadata": {},
   "outputs": [],
   "source": [
    "def randomprime(i):\n",
    "    return random_prime(2**i-1,True,2**(i-1))"
   ]
  },
  {
   "cell_type": "code",
   "execution_count": 2,
   "metadata": {},
   "outputs": [],
   "source": [
    "l = 2048\n",
    "\n",
    "q = randomprime(l)\n",
    "p = randomprime(l)\n",
    "\n",
    "n = p * q\n",
    "phi = (p-1)*(q-1)\n",
    "\n",
    "e = ZZ.random_element(phi)\n",
    "R = IntegerModRing(n)\n",
    "\n",
    "while gcd(e, phi) != 1:\n",
    "    e = ZZ.random_element(phi)\n",
    "\n",
    "bezout = xgcd(e,phi)\n",
    "d = Integer(mod(bezout[1],phi));"
   ]
  },
  {
   "cell_type": "code",
   "execution_count": 3,
   "metadata": {},
   "outputs": [
    {
     "data": {
      "text/plain": [
       "(16415518432552902498940174490510716133221179450378206747877675400852795624525733273135156356490090196768577372169695269483314868244314770443726742841770511803706686413625260920348783215874668929638027349476785809919266997594654117324707416399560742325776294031509985443561811546956796369041709350494541064859169742685392141226424527176298061040976240924282308001407261986972614955729867822723336435427052289144940987039564858434655119315754274762069404839497777161564323845471676985575389132640494306213464465705452610016467302380165123545298341173047598853119751480800786160429559710512747537979979480322077213622263,\n",
       " 17490128877832001568317778160980380557369632576512708867084055744547363135092627423477446496259519322511817806037141874394678654233609228494290887938332963877949312575829242363545179323081091033555577277294847778659727364648966479368262210519559827759173878453814555230172025798086434128448714121112215575623652431200185083530765859757700978181334306103275536048470295587742072462521974142770810067518358168466877618808143569271120219917617338840977972631251704962020672677168083020016038453107704035526054038511990782347456308337290573599904703686421290201515477549719402404401275262087383992625076630404723255622439,\n",
       " 69046146129575516366647713089252469181502557922137019131252513402689759805059012191032234745409401149778665165213030291729325315912869713940293356657449636193835958396579692244118402535301116217111643776125469721842894777812394758038745233030831968615998272138165509229614770950673454029001466404124808138232437914796222148707489659745137244641590975691663532313864404345944848407457517631831296322167159929541012922084848017396504431347933493885655784019024821121907521638131721298912720790688258780864258919198511653408760680650443510410118643999457612440498396244759498747546124713532285799854441837685879041306090836690425985937152245321037000295270675243421347312799112998541341539778242841127097810891709642428516174516433467349033935269906073188329282193006324026450532679406041824057463578395058514326442008153832871948159877400869109318189334499053034082219979004288423768977434438390327657677279197987150074045871631029928058399593050697043709244513373892953687766096717889869937010270588165138000164629240023415928356913809111467539854928532937648363201418736793865334276548254776170125579610994687665171179783853645649231084672048391271195199753989204759022576361662522753030091067526270584773652601814367336241783951975)"
      ]
     },
     "execution_count": 3,
     "metadata": {},
     "output_type": "execute_result"
    }
   ],
   "source": [
    "# Public key\n",
    "(n,e)\n",
    "\n",
    "# Private key\n",
    "(p,q,d)"
   ]
  },
  {
   "cell_type": "code",
   "execution_count": 23,
   "metadata": {},
   "outputs": [],
   "source": [
    "import hashlib\n",
    "import binascii\n",
    "\n",
    "from random import SystemRandom\n",
    "\n",
    "nBits = 1024\n",
    "k0BitsInt = 256\n",
    "k0BitsFill = '0256b'\n",
    "encoding = 'utf-8'\n",
    "\n",
    "oracle1 = hashlib.sha256()\n",
    "oracle2 = hashlib.sha256()\n",
    "\n",
    "def CharsToBinary(msg):\n",
    "    bits = bin(int(binascii.hexlify(msg), 16))\n",
    "    return bits\n",
    "\n",
    "def BinaryToChars(bits):\n",
    "    n = int(bits, 2)\n",
    "    return binascii.hexlify('%x' % n)\n",
    "\n",
    "def paddingOAEP(msg):\n",
    "\n",
    "    #oracle1 = hashlib.sha256()\n",
    "    #oracle2 = hashlib.sha256()\n",
    "    \n",
    "    randBitStr = format(SystemRandom().getrandbits(k0BitsInt), k0BitsFill)\n",
    "    binMsg = CharsToBinary(msg)\n",
    "    \n",
    "    if len(binMsg) <= (nBits-k0BitsInt):\n",
    "        k1Bits = nBits - k0BitsInt - len(binMsg) \n",
    "        zeroPaddedMsg = binMsg + ('0'*k1Bits)\n",
    "\n",
    "    oracle1.update(randBitStr.encode(encoding))\n",
    "    x = format(int(zeroPaddedMsg, 2) ^^ int(oracle1.hexdigest(), 16), '0768b')\n",
    "    oracle2.update(x.encode(encoding))\n",
    "    y = format(int(randBitStr, 2) ^^ int(oracle2.hexdigest(), 16), k0BitsFill)\n",
    "\n",
    "    return x+y\n",
    "\n",
    "def unpad(msg):\n",
    "\n",
    "    #oracle1 = hashlib.sha256()\n",
    "    #oracle2 = hashlib.sha256()\n",
    "\n",
    "    x = msg[0:768]\n",
    "    y = msg[768:]\n",
    "\n",
    "    oracle2.update(x.encode(encoding))\n",
    "    r = format(int(y,2) ^^ int(oracle2.hexdigest(), 16), k0BitsFill)\n",
    "\n",
    "    oracle1.update(r.encode(encoding))\n",
    "    msgWith0s = format( int(x,2) ^^ int(oracle1.hexdigest(), 16), '0768b')\n",
    "\n",
    "    return BinaryToChars(msgWith0s)"
   ]
  },
  {
   "cell_type": "code",
   "execution_count": 24,
   "metadata": {},
   "outputs": [],
   "source": [
    "def binaryToDecimal(n): \n",
    "    return int(n,2) \n",
    "\n",
    "def decimalToBinary(n): \n",
    "    return bin(n).replace(\"0b\",\"\") "
   ]
  },
  {
   "cell_type": "code",
   "execution_count": 36,
   "metadata": {},
   "outputs": [],
   "source": [
    "def encrypt(msg):\n",
    "    m = paddingOAEP(msg)\n",
    "    a1 = ZZ(m)\n",
    "    a = R(a1)\n",
    "    print a\n",
    "    cipher = a**e\n",
    "    ct = mod(cipher,n)\n",
    "    return ct\n",
    "\n",
    "def decpryt(ct):\n",
    "    dm = ct**d\n",
    "    b = mod(dm, n)\n",
    "    print b\n",
    "    m = b.binary()\n",
    "    print m.format(1024)\n",
    "    msg = unpad(m)\n",
    "    return msg"
   ]
  },
  {
   "cell_type": "code",
   "execution_count": 37,
   "metadata": {},
   "outputs": [
    {
     "name": "stdout",
     "output_type": "stream",
     "text": [
      "11369049358847635677164766504527943715337754416245132636733154297444369301731323334382173765967549377734261322909520843913137977372966892703814917990879572333180005613708296952714699942238143249211569964884714013036536348556469260749562064231111564850720245554075690704598421048053355302022478566007458266366086456294522726511393021669070743277672817108105483016934872853004494485097923452830602886962569671109504054449342166683389486491095096134584009001439967072272577748077721174484237970806670270692428821497377023211549263342038075148616265338217912316534330034731726715620435620899373824170876633644280015269107334678524044927992623805325072780201878465955569021978424086091574485345890499731474250566241458508369863048700132214531602229009537521354110026864760822607527978617867156065459499486840894934743567165943536242785250081126462661428626582626110942087420622074359529535084142156360946684001395032338250891776\n",
      "11369049358847635677164766504527943715337754416245132636733154297444369301731323334382173765967549377734261322909520843913137977372966892703814917990879572333180005613708296952714699942238143249211569964884714013036536348556469260749562064231111564850720245554075690704598421048053355302022478566007458266366086456294522726511393021669070743277672817108105483016934872853004494485097923452830602886962569671109504054449342166683389486491095096134584009001439967072272577748077721174484237970806670270692428821497377023211549263342038075148616265338217912316534330034731726715620435620899373824170876633644280015269107334678524044927992623805325072780201878465955569021978424086091574485345890499731474250566241458508369863048700132214531602229009537521354110026864760822607527978617867156065459499486840894934743567165943536242785250081126462661428626582626110942087420622074359529535084142156360946684001395032338250891776\n"
     ]
    },
    {
     "name": "stderr",
     "output_type": "stream",
     "text": [
      "/usr/lib/python2.7/dist-packages/sage/repl/ipython_kernel/__main__.py:6: DeprecationWarning: use 0o as octal prefix instead of 0\n",
      "If you do not want this number to be interpreted as octal, remove the leading zeros.\n",
      "See http://trac.sagemath.org/17413 for details.\n"
     ]
    },
    {
     "ename": "AttributeError",
     "evalue": "'sage.rings.finite_rings.integer_mod.IntegerMod_gmp' object has no attribute 'binary'",
     "output_type": "error",
     "traceback": [
      "\u001b[0;31m---------------------------------------------------------------------------\u001b[0m",
      "\u001b[0;31mAttributeError\u001b[0m                            Traceback (most recent call last)",
      "\u001b[0;32m<ipython-input-37-753ae69fda02>\u001b[0m in \u001b[0;36m<module>\u001b[0;34m()\u001b[0m\n\u001b[1;32m      6\u001b[0m \u001b[0mct\u001b[0m \u001b[0;34m=\u001b[0m \u001b[0mencrypt\u001b[0m\u001b[0;34m(\u001b[0m\u001b[0mmsg\u001b[0m\u001b[0;34m)\u001b[0m\u001b[0;34m\u001b[0m\u001b[0m\n\u001b[1;32m      7\u001b[0m \u001b[0;31m#print ct\u001b[0m\u001b[0;34m\u001b[0m\u001b[0;34m\u001b[0m\u001b[0m\n\u001b[0;32m----> 8\u001b[0;31m \u001b[0mm\u001b[0m \u001b[0;34m=\u001b[0m \u001b[0mdecpryt\u001b[0m\u001b[0;34m(\u001b[0m\u001b[0mct\u001b[0m\u001b[0;34m)\u001b[0m\u001b[0;34m\u001b[0m\u001b[0m\n\u001b[0m\u001b[1;32m      9\u001b[0m \u001b[0;31m#print m\u001b[0m\u001b[0;34m\u001b[0m\u001b[0;34m\u001b[0m\u001b[0m\n\u001b[1;32m     10\u001b[0m \u001b[0;34m\u001b[0m\u001b[0m\n",
      "\u001b[0;32m<ipython-input-36-afc88ec908df>\u001b[0m in \u001b[0;36mdecpryt\u001b[0;34m(ct)\u001b[0m\n\u001b[1;32m     12\u001b[0m     \u001b[0mb\u001b[0m \u001b[0;34m=\u001b[0m \u001b[0mmod\u001b[0m\u001b[0;34m(\u001b[0m\u001b[0mdm\u001b[0m\u001b[0;34m,\u001b[0m \u001b[0mn\u001b[0m\u001b[0;34m)\u001b[0m\u001b[0;34m\u001b[0m\u001b[0m\n\u001b[1;32m     13\u001b[0m     \u001b[0;32mprint\u001b[0m \u001b[0mb\u001b[0m\u001b[0;34m\u001b[0m\u001b[0m\n\u001b[0;32m---> 14\u001b[0;31m     \u001b[0mm\u001b[0m \u001b[0;34m=\u001b[0m \u001b[0mb\u001b[0m\u001b[0;34m.\u001b[0m\u001b[0mbinary\u001b[0m\u001b[0;34m(\u001b[0m\u001b[0;34m)\u001b[0m\u001b[0;34m\u001b[0m\u001b[0m\n\u001b[0m\u001b[1;32m     15\u001b[0m     \u001b[0;32mprint\u001b[0m \u001b[0mm\u001b[0m\u001b[0;34m.\u001b[0m\u001b[0mformat\u001b[0m\u001b[0;34m(\u001b[0m\u001b[0mInteger\u001b[0m\u001b[0;34m(\u001b[0m\u001b[0;36m1024\u001b[0m\u001b[0;34m)\u001b[0m\u001b[0;34m)\u001b[0m\u001b[0;34m\u001b[0m\u001b[0m\n\u001b[1;32m     16\u001b[0m     \u001b[0mmsg\u001b[0m \u001b[0;34m=\u001b[0m \u001b[0munpad\u001b[0m\u001b[0;34m(\u001b[0m\u001b[0mm\u001b[0m\u001b[0;34m)\u001b[0m\u001b[0;34m\u001b[0m\u001b[0m\n",
      "\u001b[0;32msage/structure/element.pyx\u001b[0m in \u001b[0;36msage.structure.element.Element.__getattr__ (build/cythonized/sage/structure/element.c:4303)\u001b[0;34m()\u001b[0m\n",
      "\u001b[0;32msage/structure/element.pyx\u001b[0m in \u001b[0;36msage.structure.element.Element.getattr_from_category (build/cythonized/sage/structure/element.c:4412)\u001b[0;34m()\u001b[0m\n",
      "\u001b[0;32msage/cpython/getattr.pyx\u001b[0m in \u001b[0;36msage.cpython.getattr.getattr_from_other_class (build/cythonized/sage/cpython/getattr.c:1834)\u001b[0;34m()\u001b[0m\n",
      "\u001b[0;31mAttributeError\u001b[0m: 'sage.rings.finite_rings.integer_mod.IntegerMod_gmp' object has no attribute 'binary'"
     ]
    }
   ],
   "source": [
    "from random import randint\n",
    "\n",
    "msg = \"Hello world\"\n",
    "#msg = randint(0,256)\n",
    "#print msg\n",
    "ct = encrypt(msg)\n",
    "#print ct\n",
    "m = decpryt(ct)\n",
    "#print m\n",
    "\n",
    "print msg == m"
   ]
  },
  {
   "cell_type": "code",
   "execution_count": null,
   "metadata": {},
   "outputs": [],
   "source": []
  },
  {
   "cell_type": "code",
   "execution_count": null,
   "metadata": {},
   "outputs": [],
   "source": []
  }
 ],
 "metadata": {
  "kernelspec": {
   "display_name": "SageMath 8.1",
   "language": "",
   "name": "sagemath"
  },
  "language_info": {
   "codemirror_mode": {
    "name": "ipython",
    "version": 2
   },
   "file_extension": ".py",
   "mimetype": "text/x-python",
   "name": "python",
   "nbconvert_exporter": "python",
   "pygments_lexer": "ipython2",
   "version": "2.7.17"
  }
 },
 "nbformat": 4,
 "nbformat_minor": 4
}
