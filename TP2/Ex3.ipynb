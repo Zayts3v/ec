{
 "cells": [
  {
   "cell_type": "code",
   "execution_count": 5,
   "metadata": {},
   "outputs": [],
   "source": [
    "# Curve P-192 from FIPS 186-4\n",
    "\n",
    "class MyECDSA():\n",
    "    \n",
    "# Curve table\n",
    "    global NIST\n",
    "    NIST = dict()\n",
    "    NIST['P-192'] =  {\n",
    "         'p': 6277101735386680763835789423207666416083908700390324961279,\n",
    "         'n': 6277101735386680763835789423176059013767194773182842284081,\n",
    "         'seed' : '3045ae6fc8422f64ed579528d38120eae12196d5',\n",
    "         'c': '3099d2bbbfcb2538542dcd5fb078b6ef5f3d6fe2c745de65',\n",
    "         'b': '64210519e59c80e70fa7e9ab72243049feb8deecc146b9b1',\n",
    "         'Gx' : '188da80eb03090f67cbf20eb43a18800f4ff0afd82ff1012',\n",
    "         'Gy' : '07192b95ffc8da78631011ed6b24cdd573f977a11e794811'\n",
    "        }\n",
    "\n",
    "# E : y^2 = x^3 - 3*x + b (mod p)\n",
    "    \n",
    "    def verify(self):\n",
    "        # init\n",
    "        c = NIST['P-192']\n",
    "        p = c['p']\n",
    "        n = c['n']\n",
    "        b = ZZ(c['b'],16)\n",
    "        Gx = ZZ(c['Gx'],16)\n",
    "        Gy = ZZ(c['Gy'],16)\n",
    "\n",
    "        E = EllipticCurve(GF(p),[-3,b])\n",
    "        G = E((Gx,Gy))\n",
    "        print(E)\n",
    "        print(\"G = \",G)\n",
    "        \n",
    "        # Verificar se G tem ordem n \n",
    "        print(G * n)\n",
    "\n",
    "        # Verificar a estrutura de grupo abeliano na órbita de G\n",
    "        i = ZZ.random_element(1,n-1)\n",
    "        j = ZZ.random_element(1,n-1)\n",
    "        print(G*i, G*j)\n",
    "        print(G*i + G*j)\n",
    "        print(G*(i+j))\n",
    "        \n",
    "        P = E.random_point()\n",
    "        # Verificar se P aleatório está na órbita de G é equivalente a resolver o problema do logaritmo discreto nesta curva\n",
    "        # Mas pode-se ver algumas propriedades\n",
    "        m = P.order()\n",
    "        # G.discrete_log(P)\n",
    "        # Conjunto dos pontos P tais que  G * m == P\n",
    "        m=7\n",
    "        G.division_points(m)"
   ]
  },
  {
   "cell_type": "code",
   "execution_count": 6,
   "metadata": {},
   "outputs": [
    {
     "name": "stdout",
     "output_type": "stream",
     "text": [
      "Elliptic Curve defined by y^2 = x^3 + 6277101735386680763835789423207666416083908700390324961276*x + 2455155546008943817740293915197451784769108058161191238065 over Finite Field of size 6277101735386680763835789423207666416083908700390324961279\n",
      "G =  (602046282375688656758213480587526111916698976636884684818 : 174050332293622031404857552280219410364023488927386650641 : 1)\n",
      "(0 : 1 : 0)\n",
      "(1008264748199394705464810810912504178112370579078679124213 : 1357579605888129769492865358841467797862844315210034376745 : 1) (3119390685273356203417839311751789388606299514579197482981 : 1253598517614586300844074140363331163843134882820102855864 : 1)\n",
      "(3232534023477580099788263364816935259397161337720263626847 : 4349566002656623329835222299687313807136117796511292959035 : 1)\n",
      "(3232534023477580099788263364816935259397161337720263626847 : 4349566002656623329835222299687313807136117796511292959035 : 1)\n",
      "Elliptic Curve defined by y^2 = x^3 + 6277101735386680763835789423207666416083908700390324961276*x + 2455155546008943817740293915197451784769108058161191238065 over Finite Field of size 6277101735386680763835789423207666416083908700390324961279\n",
      "G =  (602046282375688656758213480587526111916698976636884684818 : 174050332293622031404857552280219410364023488927386650641 : 1)\n",
      "(0 : 1 : 0)\n",
      "(1008264748199394705464810810912504178112370579078679124213 : 1357579605888129769492865358841467797862844315210034376745 : 1) (3119390685273356203417839311751789388606299514579197482981 : 1253598517614586300844074140363331163843134882820102855864 : 1)\n",
      "(3232534023477580099788263364816935259397161337720263626847 : 4349566002656623329835222299687313807136117796511292959035 : 1)\n",
      "(3232534023477580099788263364816935259397161337720263626847 : 4349566002656623329835222299687313807136117796511292959035 : 1)\n"
     ]
    }
   ],
   "source": [
    "x = MyECDSA()\n",
    "x.verify()"
   ]
  },
  {
   "cell_type": "code",
   "execution_count": null,
   "metadata": {},
   "outputs": [],
   "source": []
  }
 ],
 "metadata": {
  "kernelspec": {
   "display_name": "SageMath 9.0",
   "language": "sage",
   "name": "sagemath"
  },
  "language_info": {
   "codemirror_mode": {
    "name": "ipython",
    "version": 3
   },
   "file_extension": ".py",
   "mimetype": "text/x-python",
   "name": "python",
   "nbconvert_exporter": "python",
   "pygments_lexer": "ipython3",
   "version": "3.7.3"
  }
 },
 "nbformat": 4,
 "nbformat_minor": 4
}
