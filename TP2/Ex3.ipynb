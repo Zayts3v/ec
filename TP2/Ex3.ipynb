{
 "cells": [
  {
   "cell_type": "code",
   "execution_count": 1,
   "metadata": {},
   "outputs": [
    {
     "ename": "ModuleNotFoundError",
     "evalue": "No module named 'sage'",
     "output_type": "error",
     "traceback": [
      "\u001b[1;31m---------------------------------------------------------------------------\u001b[0m",
      "\u001b[1;31mModuleNotFoundError\u001b[0m                       Traceback (most recent call last)",
      "\u001b[1;32m<ipython-input-1-d2d73314ff17>\u001b[0m in \u001b[0;36m<module>\u001b[1;34m\u001b[0m\n\u001b[0;32m      1\u001b[0m \u001b[1;31m# Curve P-192 from FIPS 186-4\u001b[0m\u001b[1;33m\u001b[0m\u001b[1;33m\u001b[0m\u001b[1;33m\u001b[0m\u001b[0m\n\u001b[0;32m      2\u001b[0m \u001b[1;33m\u001b[0m\u001b[0m\n\u001b[1;32m----> 3\u001b[1;33m \u001b[1;32mfrom\u001b[0m \u001b[0msage\u001b[0m\u001b[1;33m.\u001b[0m\u001b[0mrepl\u001b[0m\u001b[1;33m.\u001b[0m\u001b[0mipython_kernel\u001b[0m \u001b[1;32mimport\u001b[0m \u001b[0mZZ\u001b[0m\u001b[1;33m\u001b[0m\u001b[1;33m\u001b[0m\u001b[0m\n\u001b[0m\u001b[0;32m      4\u001b[0m \u001b[1;33m\u001b[0m\u001b[0m\n\u001b[0;32m      5\u001b[0m \u001b[1;33m\u001b[0m\u001b[0m\n",
      "\u001b[1;31mModuleNotFoundError\u001b[0m: No module named 'sage'"
     ]
    }
   ],
   "source": [
    "# Curve P-192 from FIPS 186-4\n",
    "\n",
    "class MyECDSA():\n",
    "    \n",
    "# Curve table\n",
    "    global NIST\n",
    "    NIST = dict()\n",
    "    NIST['P-192'] =  {\n",
    "         'p': 6277101735386680763835789423207666416083908700390324961279,\n",
    "         'n': 6277101735386680763835789423176059013767194773182842284081,\n",
    "         'seed' : '3045ae6fc8422f64ed579528d38120eae12196d5',\n",
    "         'c': '3099d2bbbfcb2538542dcd5fb078b6ef5f3d6fe2c745de65',\n",
    "         'b': '64210519e59c80e70fa7e9ab72243049feb8deecc146b9b1',\n",
    "         'Gx' : '188da80eb03090f67cbf20eb43a18800f4ff0afd82ff1012',\n",
    "         'Gy' : '07192b95ffc8da78631011ed6b24cdd573f977a11e794811'\n",
    "        }  \n",
    "\n",
    "# E : y^2 = x^3 - 3*x + b (mod p)\n",
    "    \n",
    "    def verify(self):\n",
    "        # init\n",
    "        c = NIST['P-192']\n",
    "        p = c['p']\n",
    "        n = c['n']\n",
    "        b = ZZ(c['b'],16)\n",
    "        Gx = ZZ(c['Gx'],16)\n",
    "        Gy = ZZ(c['Gy'],16)\n",
    "\n",
    "        E = EllipticCurve(GF(p),[-3,b])\n",
    "        G = E((Gx,Gy))\n",
    "        print(E)\n",
    "        print(\"G = \",G)\n",
    "        \n",
    "        # Verificar se G tem ordem n \n",
    "        print(G * n)\n",
    "\n",
    "        # Verificar a estrutura de grupo abeliano na órbita de G\n",
    "        i = ZZ.random_element(1,n-1)\n",
    "        j = ZZ.random_element(1,n-1)\n",
    "        print(G*i, G*j)\n",
    "        print(G*i + G*j)\n",
    "        print(G*(i+j))\n",
    "        \n",
    "        P = E.random_point()\n",
    "        # Verificar se P aleatório está na órbita de G é equivalente a resolver o problema do logaritmo discreto nesta curva\n",
    "        # Mas pode-se ver algumas propriedades\n",
    "        m = P.order()\n",
    "        # G.discrete_log(P)\n",
    "        # Conjunto dos pontos P tais que  G * m == P\n",
    "        m=7\n",
    "        G.division_points(m)"
   ]
  },
  {
   "cell_type": "code",
   "execution_count": null,
   "metadata": {},
   "outputs": [],
   "source": [
    "x = MyECDSA()\n",
    "x.verify()"
   ]
  }
 ],
 "metadata": {
  "kernelspec": {
   "display_name": "Python 3",
   "language": "python",
   "name": "python3"
  },
  "language_info": {
   "codemirror_mode": {
    "name": "ipython",
    "version": 3
   },
   "file_extension": ".py",
   "mimetype": "text/x-python",
   "name": "python",
   "nbconvert_exporter": "python",
   "pygments_lexer": "ipython3",
   "version": "3.7.6"
  }
 },
 "nbformat": 4,
 "nbformat_minor": 4
}
