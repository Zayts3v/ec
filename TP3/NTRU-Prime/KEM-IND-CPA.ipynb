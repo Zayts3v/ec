{
 "cells": [
  {
   "cell_type": "markdown",
   "metadata": {},
   "source": [
    "# Implementação KEM do NTRU-Prime"
   ]
  },
  {
   "cell_type": "markdown",
   "metadata": {},
   "source": [
    "## Parameters"
   ]
  },
  {
   "cell_type": "code",
   "execution_count": 1,
   "metadata": {},
   "outputs": [],
   "source": [
    "def verifyW(p, q, w, indice):\n",
    "    while (2*p < 3*w):\n",
    "        indice = indice + 1\n",
    "        w = p//indice\n",
    "    \n",
    "    while (q < (16*w + 1)):\n",
    "        indice = indice + 1\n",
    "        w = p//indice\n",
    "\n",
    "    return w"
   ]
  },
  {
   "cell_type": "code",
   "execution_count": 2,
   "metadata": {},
   "outputs": [],
   "source": [
    "p = next_prime(120)\n",
    "q = next_prime(120)\n",
    "w = p//4\n",
    "d = (q-1)/2\n",
    "\n",
    "w = verifyW(p,q,w,4)\n",
    "\n",
    "R_.<x>  = ZZ[]\n",
    "R       = R_.quotient(x^p-x-1)\n",
    "\n",
    "R3_.<x> = GF(3)[]\n",
    "R3      = R3_.quotient(x^p-x-1)\n",
    "\n",
    "Rq_.<x> = GF(q)[]\n",
    "Rq      = Rq_.quotient(x^p-x-1)\n",
    "\n",
    "if (x^p-x-1).is_irreducible() is False:\n",
    "    print(\"Error\\n\")"
   ]
  },
  {
   "cell_type": "markdown",
   "metadata": {},
   "source": [
    "## Funções auxiliares"
   ]
  },
  {
   "cell_type": "code",
   "execution_count": 3,
   "metadata": {},
   "outputs": [],
   "source": [
    "def round_next_3(inp,pol=None):\n",
    "    try:\n",
    "        inp = lift(inp).list()\n",
    "    except: \n",
    "        pass\n",
    "    def f(u):\n",
    "        a = lift(u) ; a = a if a <= d else a-q\n",
    "        return 3*round(a/3)\n",
    "        \n",
    "    pr = [f(u) for u in inp]\n",
    "    if pol:\n",
    "        return pol(pr)\n",
    "    else:\n",
    "        return pr\n",
    "    \n",
    "    \n",
    "def round3(inp,pol=None):\n",
    "    try:\n",
    "        inp = lift(inp).list()\n",
    "    except: \n",
    "        pass\n",
    "    def f(a):\n",
    "        u = lift(a) ; u = u if u <= d else u-q \n",
    "        u = u%3\n",
    "        return u if u < 2 else -1 \n",
    "        \n",
    "    pr = [f(a) for a in inp]\n",
    "    if pol:\n",
    "        return pol(pr)\n",
    "    else:\n",
    "        return pr\n",
    "\n",
    "def R3_to_small(inp):\n",
    "\n",
    "    inp2 = lift(inp).list()\n",
    "    anp = [0]*p\n",
    "    \n",
    "    for i in range(len(inp2)):\n",
    "        anp[i] = inp2[i]      \n",
    "    \n",
    "    def f(u):\n",
    "        return u if u < 2 else -1\n",
    "    return [f(u) for u in anp]"
   ]
  },
  {
   "cell_type": "code",
   "execution_count": 4,
   "metadata": {},
   "outputs": [],
   "source": [
    "import random as rn\n",
    "\n",
    "def small(p):\n",
    "    u = [rn.choice([-1,0,1]) for i in range(p)]\n",
    "    return u\n",
    "\n",
    "def smallW(p,w):\n",
    "    u = [rn.choice([-1,1]) for i in range(w)] + [0]*(p-w)\n",
    "    rn.shuffle(u)\n",
    "    return u"
   ]
  },
  {
   "cell_type": "code",
   "execution_count": 5,
   "metadata": {},
   "outputs": [],
   "source": [
    "def verifyG():\n",
    "    \n",
    "    g = small(p)\n",
    "    while not R3(g).is_unit():\n",
    "        g = small(p)\n",
    "\n",
    "    return g"
   ]
  },
  {
   "cell_type": "code",
   "execution_count": 6,
   "metadata": {},
   "outputs": [],
   "source": [
    "def pesosR(vec):\n",
    "    cont = 0\n",
    "\n",
    "    for i in range(len(vec)):\n",
    "        if (vec[i] != 0):\n",
    "           cont = cont+1\n",
    "    \n",
    "    return cont"
   ]
  },
  {
   "cell_type": "markdown",
   "metadata": {},
   "source": [
    "## Key generation, Encapsulate e Decapsulate"
   ]
  },
  {
   "cell_type": "code",
   "execution_count": 7,
   "metadata": {},
   "outputs": [],
   "source": [
    "import hashlib\n",
    "\n",
    "def KeyGen():\n",
    "    g = verifyG()\n",
    "    f = smallW(p,w)\n",
    "    F = Rq(f)\n",
    "    g1 = 1/R3(g)\n",
    "    h = Rq(g)/(3*F)\n",
    "    \n",
    "    return {'f': F, 'g1': g1, 'pk' : h}\n",
    "\n",
    "def Encapsulate(pk):\n",
    "    r = smallW(p,w)\n",
    "    c = round_next_3(pk*Rq(r))\n",
    "\n",
    "    fhash = hashlib.sha512()\n",
    "    fhash.update(str(r).encode('utf-8'))\n",
    "    divisao = fhash.digest()\n",
    "\n",
    "    C = divisao[:32]\n",
    "    K = divisao[32:]\n",
    "    \n",
    "    return {'C': C, 'c': c, 'K': K}\n",
    "    \n",
    "def Decapsulate(C,c,f,g1):\n",
    "    a = round3(Rq(3*f)*Rq(c))\n",
    "    e = R3(a)*g1\n",
    "    r1 = R3_to_small(e)\n",
    "\n",
    "    fhash = hashlib.sha512()\n",
    "    fhash.update(str(r1).encode('utf-8'))\n",
    "    divisao = fhash.digest()\n",
    "\n",
    "    CLinha = divisao[:32]\n",
    "    KLinha = divisao[32:]\n",
    "\n",
    "    if (pesosR(r1) == w):\n",
    "        if(CLinha == C):\n",
    "            return {'r1': r1, 'k': KLinha}\n",
    "        else:\n",
    "            return False\n",
    "    else:\n",
    "        return False"
   ]
  },
  {
   "cell_type": "markdown",
   "metadata": {},
   "source": [
    "## Test"
   ]
  },
  {
   "cell_type": "code",
   "execution_count": 8,
   "metadata": {},
   "outputs": [],
   "source": [
    "import base64\n",
    "\n",
    "def run():\n",
    "    keys   = KeyGen()\n",
    "    crypto = Encapsulate(keys['pk'])\n",
    "    decryp = Decapsulate(crypto['C'],crypto['c'],keys['f'],keys['g1'])\n",
    "    if (crypto['c'] == round_next_3(keys['pk']*Rq(decryp['r1']))):\n",
    "        return base64.b64encode(crypto['K'])==base64.b64encode(decryp['k'])\n",
    "    else:\n",
    "        return false"
   ]
  },
  {
   "cell_type": "code",
   "execution_count": 9,
   "metadata": {
    "scrolled": true
   },
   "outputs": [
    {
     "data": {
      "text/plain": [
       "True"
      ]
     },
     "execution_count": 9,
     "metadata": {},
     "output_type": "execute_result"
    }
   ],
   "source": [
    "run()"
   ]
  }
 ],
 "metadata": {
  "kernelspec": {
   "display_name": "SageMath 8.1",
   "language": "",
   "name": "sagemath"
  },
  "language_info": {
   "codemirror_mode": {
    "name": "ipython",
    "version": 2
   },
   "file_extension": ".py",
   "mimetype": "text/x-python",
   "name": "python",
   "nbconvert_exporter": "python",
   "pygments_lexer": "ipython2",
   "version": "2.7.17"
  }
 },
 "nbformat": 4,
 "nbformat_minor": 4
}
