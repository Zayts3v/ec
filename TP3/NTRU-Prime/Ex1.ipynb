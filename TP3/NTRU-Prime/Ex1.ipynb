{
 "cells": [
  {
   "cell_type": "markdown",
   "metadata": {},
   "source": [
    "# Implementação KEM do NTRU-Prime"
   ]
  },
  {
   "cell_type": "markdown",
   "metadata": {},
   "source": [
    "## Parameters"
   ]
  },
  {
   "cell_type": "code",
   "execution_count": 1,
   "metadata": {},
   "outputs": [],
   "source": [
    "def verifyW(p, q, w, indice):\n",
    "    while (2*p < 3*w):\n",
    "        indice = indice + 1\n",
    "        w = p//indice\n",
    "    \n",
    "    while (q < (16*w + 1)):\n",
    "        indice = indice + 1\n",
    "        w = p//indice\n",
    "\n",
    "    return w"
   ]
  },
  {
   "cell_type": "code",
   "execution_count": 2,
   "metadata": {},
   "outputs": [],
   "source": [
    "p = next_prime(120)\n",
    "q = next_prime(120)\n",
    "w = p//4\n",
    "\n",
    "w = verifyW(p,q,w,4)\n",
    "\n",
    "\n",
    "RingQ.<x> = PolynomialRing(GF(q),'x')\n",
    "if (x^p-x-1).is_irreducible() is False:\n",
    "    print(\"Error\\n\")\n",
    "\n",
    "Z = IntegerRing()\n",
    "Ring  = PolynomialRing(Z,'x')\n",
    "Ring3 = PolynomialRing(GF(3),'x')\n",
    "\n",
    "R  = QuotientRing(Ring, Ring.ideal(x^p-x-1))\n",
    "R3 = QuotientRing(Ring3, Ring3.ideal(x^p-x-1))\n",
    "Rq = QuotientRing(RingQ, RingQ.ideal(x^p-x-1))"
   ]
  },
  {
   "cell_type": "markdown",
   "metadata": {},
   "source": [
    "## Funções auxiliares"
   ]
  },
  {
   "cell_type": "code",
   "execution_count": 3,
   "metadata": {},
   "outputs": [],
   "source": [
    "def roundEach(f,b=None):\n",
    "    ff = list(f)\n",
    "    if b == None:\n",
    "        return ff\n",
    "    else:\n",
    "        fp = map(lift,[Mod(a,b) for a in ff])\n",
    "        return [u if u <= b//2 else u-b for u in fp ]\n",
    "\n",
    "def round3(f,b=None):\n",
    "    ff = list(f)\n",
    "    if b == None:\n",
    "        return ff\n",
    "    else:\n",
    "        fp = map(lift,[Mod(a,b) for a in ff])\n",
    "        return [u if u <= b//3 else u-b for u in fp ]\n",
    "\n",
    "def toR(vec):\n",
    "    return R(vec)\n",
    "\n",
    "def computeH(f,g):\n",
    "    _f = Rq(f)\n",
    "    _g = Rq(g)\n",
    "    \n",
    "    try:\n",
    "        hq = (_g/_f)\n",
    "        return (True,Rq([lift(a) for a in list(hq)]))\n",
    "    except:\n",
    "        return (False,0)"
   ]
  },
  {
   "cell_type": "code",
   "execution_count": 4,
   "metadata": {},
   "outputs": [],
   "source": [
    "import random as rn\n",
    "\n",
    "def small(P=p):\n",
    "    u = [rn.choice([-1,0,1]) for i in range(p)]\n",
    "    return u\n",
    "\n",
    "def smallW(P=p,W=w):\n",
    "    u = [rn.choice([-1,1]) for i in range(w)] + [0]*(p-w)\n",
    "    rn.shuffle(u)\n",
    "    return u"
   ]
  },
  {
   "cell_type": "code",
   "execution_count": 5,
   "metadata": {},
   "outputs": [],
   "source": [
    "def verifyG():\n",
    "    while True:\n",
    "        g = small()\n",
    "        if(R3(g).is_unit()):\n",
    "            break\n",
    "            \n",
    "    return g"
   ]
  },
  {
   "cell_type": "code",
   "execution_count": 6,
   "metadata": {},
   "outputs": [],
   "source": [
    "def formatC(ciphertext):\n",
    "    size = len(ciphertext)\n",
    "    \n",
    "    c = ciphertext[33:(size-1)].split(\",\")\n",
    "    \n",
    "    for i in range(len(c)):\n",
    "        c[i] = int(c[i])\n",
    "    \n",
    "    return c"
   ]
  },
  {
   "cell_type": "code",
   "execution_count": null,
   "metadata": {},
   "outputs": [],
   "source": [
    "def pesosR(vec):\n",
    "    contador = 0\n",
    "\n",
    "    for i in range(len(vec)):\n",
    "        if (vec[i] != 0):\n",
    "           contador = contador + 1\n",
    "    \n",
    "    return contador"
   ]
  },
  {
   "cell_type": "markdown",
   "metadata": {},
   "source": [
    "## Key generation, Encapsulate e Decapsulate"
   ]
  },
  {
   "cell_type": "code",
   "execution_count": 7,
   "metadata": {},
   "outputs": [],
   "source": [
    "import hashlib\n",
    "\n",
    "def KeyGen(j=q, k=p, l=w):\n",
    "    G = verifyG()\n",
    "    F = smallW()\n",
    "    f = 3 * toR(F)\n",
    "    g = toR(G)\n",
    "    h = Rq(g)/Rq(f)\n",
    "    _g = R3(g)^(-1)\n",
    "    return {'f': R(F), 'g': _g, 'pk' : h}\n",
    "\n",
    "def Encapsulate(pk):\n",
    "    Rr = smallW()\n",
    "    r = toR(Rr)\n",
    "    c = roundEach(Rq(pk)*Rq(r), b=q)\n",
    "    fhash = hashlib.sha512()\n",
    "    fhash.update(str(Rr).encode('utf-8'))\n",
    "    divisao = fhash.digest()\n",
    "    C = divisao[:32]\n",
    "    K = divisao[32:]\n",
    "    c = str(c)\n",
    "    \n",
    "    return {'Cc': C+c, 'K': K}\n",
    "    \n",
    "def Decapsulate(ciphertext,f,g):\n",
    "    C = ciphertext[:32]\n",
    "    c = formatC(ciphertext)\n",
    "    F = Rq(3*f)\n",
    "    e = round3(F*Rq(c),b=q)\n",
    "    rLinha = roundEach(R3(e)*q,b=3)\n",
    "    fhash = hashlib.sha512()\n",
    "    fhash.update(str(rLinha).encode('utf-8'))\n",
    "    divisao = fhash.digest()\n",
    "\n",
    "    CLinha = divisao[:32]\n",
    "    KLinha = divisao[32:]\n",
    "\n",
    "    if (pesosR(rLinha) == w):\n",
    "        if ((CLinha+str(c)) == ciphertext):\n",
    "            if(Clinha != C):\n",
    "                return False\n",
    "        else:\n",
    "            False\n",
    "    else:\n",
    "        return False\n",
    "    \n",
    "    return base64.b64encode(KLinha)"
   ]
  },
  {
   "cell_type": "markdown",
   "metadata": {},
   "source": [
    "## Test"
   ]
  },
  {
   "cell_type": "code",
   "execution_count": 8,
   "metadata": {},
   "outputs": [],
   "source": [
    "import base64\n",
    "\n",
    "def run():\n",
    "    keys   = KeyGen()\n",
    "    crypto = Encapsulate(keys['pk'])\n",
    "    decryp = Decapsulate(crypto['Cc'],keys['f'],keys['g'])\n",
    "    return base64.b64encode(crypto['K'])==decryp"
   ]
  },
  {
   "cell_type": "code",
   "execution_count": 9,
   "metadata": {},
   "outputs": [
    {
     "ename": "NameError",
     "evalue": "global name 'pesosR' is not defined",
     "output_type": "error",
     "traceback": [
      "\u001b[0;31m---------------------------------------------------------------------------\u001b[0m",
      "\u001b[0;31mNameError\u001b[0m                                 Traceback (most recent call last)",
      "\u001b[0;32m<ipython-input-9-157c9bda2cd6>\u001b[0m in \u001b[0;36m<module>\u001b[0;34m()\u001b[0m\n\u001b[0;32m----> 1\u001b[0;31m \u001b[0mrun\u001b[0m\u001b[0;34m(\u001b[0m\u001b[0;34m)\u001b[0m\u001b[0;34m\u001b[0m\u001b[0m\n\u001b[0m",
      "\u001b[0;32m<ipython-input-8-0db16927b953>\u001b[0m in \u001b[0;36mrun\u001b[0;34m()\u001b[0m\n\u001b[1;32m      4\u001b[0m     \u001b[0mkeys\u001b[0m   \u001b[0;34m=\u001b[0m \u001b[0mKeyGen\u001b[0m\u001b[0;34m(\u001b[0m\u001b[0;34m)\u001b[0m\u001b[0;34m\u001b[0m\u001b[0m\n\u001b[1;32m      5\u001b[0m     \u001b[0mcrypto\u001b[0m \u001b[0;34m=\u001b[0m \u001b[0mEncapsulate\u001b[0m\u001b[0;34m(\u001b[0m\u001b[0mkeys\u001b[0m\u001b[0;34m[\u001b[0m\u001b[0;34m'pk'\u001b[0m\u001b[0;34m]\u001b[0m\u001b[0;34m)\u001b[0m\u001b[0;34m\u001b[0m\u001b[0m\n\u001b[0;32m----> 6\u001b[0;31m     \u001b[0mdecryp\u001b[0m \u001b[0;34m=\u001b[0m \u001b[0mDecapsulate\u001b[0m\u001b[0;34m(\u001b[0m\u001b[0mcrypto\u001b[0m\u001b[0;34m[\u001b[0m\u001b[0;34m'Cc'\u001b[0m\u001b[0;34m]\u001b[0m\u001b[0;34m,\u001b[0m\u001b[0mkeys\u001b[0m\u001b[0;34m[\u001b[0m\u001b[0;34m'f'\u001b[0m\u001b[0;34m]\u001b[0m\u001b[0;34m,\u001b[0m\u001b[0mkeys\u001b[0m\u001b[0;34m[\u001b[0m\u001b[0;34m'g'\u001b[0m\u001b[0;34m]\u001b[0m\u001b[0;34m)\u001b[0m\u001b[0;34m\u001b[0m\u001b[0m\n\u001b[0m\u001b[1;32m      7\u001b[0m     \u001b[0;32mreturn\u001b[0m \u001b[0mbase64\u001b[0m\u001b[0;34m.\u001b[0m\u001b[0mb64encode\u001b[0m\u001b[0;34m(\u001b[0m\u001b[0mcrypto\u001b[0m\u001b[0;34m[\u001b[0m\u001b[0;34m'K'\u001b[0m\u001b[0;34m]\u001b[0m\u001b[0;34m)\u001b[0m\u001b[0;34m==\u001b[0m\u001b[0mdecryp\u001b[0m\u001b[0;34m\u001b[0m\u001b[0m\n",
      "\u001b[0;32m<ipython-input-7-7848a2bdb560>\u001b[0m in \u001b[0;36mDecapsulate\u001b[0;34m(ciphertext, f, g)\u001b[0m\n\u001b[1;32m     36\u001b[0m     \u001b[0mKLinha\u001b[0m \u001b[0;34m=\u001b[0m \u001b[0mdivisao\u001b[0m\u001b[0;34m[\u001b[0m\u001b[0mInteger\u001b[0m\u001b[0;34m(\u001b[0m\u001b[0;36m32\u001b[0m\u001b[0;34m)\u001b[0m\u001b[0;34m:\u001b[0m\u001b[0;34m]\u001b[0m\u001b[0;34m\u001b[0m\u001b[0m\n\u001b[1;32m     37\u001b[0m \u001b[0;34m\u001b[0m\u001b[0m\n\u001b[0;32m---> 38\u001b[0;31m     \u001b[0;32mif\u001b[0m \u001b[0;34m(\u001b[0m\u001b[0mpesosR\u001b[0m\u001b[0;34m(\u001b[0m\u001b[0mrLinha\u001b[0m\u001b[0;34m)\u001b[0m \u001b[0;34m==\u001b[0m \u001b[0mw\u001b[0m\u001b[0;34m)\u001b[0m\u001b[0;34m:\u001b[0m\u001b[0;34m\u001b[0m\u001b[0m\n\u001b[0m\u001b[1;32m     39\u001b[0m         \u001b[0;32mif\u001b[0m \u001b[0;34m(\u001b[0m\u001b[0;34m(\u001b[0m\u001b[0mCLinha\u001b[0m\u001b[0;34m+\u001b[0m\u001b[0mstr\u001b[0m\u001b[0;34m(\u001b[0m\u001b[0mc\u001b[0m\u001b[0;34m)\u001b[0m\u001b[0;34m)\u001b[0m \u001b[0;34m==\u001b[0m \u001b[0mciphertext\u001b[0m\u001b[0;34m)\u001b[0m\u001b[0;34m:\u001b[0m\u001b[0;34m\u001b[0m\u001b[0m\n\u001b[1;32m     40\u001b[0m             \u001b[0;32mif\u001b[0m\u001b[0;34m(\u001b[0m\u001b[0mClinha\u001b[0m \u001b[0;34m!=\u001b[0m \u001b[0mC\u001b[0m\u001b[0;34m)\u001b[0m\u001b[0;34m:\u001b[0m\u001b[0;34m\u001b[0m\u001b[0m\n",
      "\u001b[0;31mNameError\u001b[0m: global name 'pesosR' is not defined"
     ]
    }
   ],
   "source": [
    "run()"
   ]
  },
  {
   "cell_type": "code",
   "execution_count": null,
   "metadata": {},
   "outputs": [],
   "source": []
  },
  {
   "cell_type": "code",
   "execution_count": null,
   "metadata": {},
   "outputs": [],
   "source": []
  },
  {
   "cell_type": "code",
   "execution_count": null,
   "metadata": {},
   "outputs": [],
   "source": []
  }
 ],
 "metadata": {
  "kernelspec": {
   "display_name": "SageMath 8.1",
   "language": "",
   "name": "sagemath"
  },
  "language_info": {
   "codemirror_mode": {
    "name": "ipython",
    "version": 2
   },
   "file_extension": ".py",
   "mimetype": "text/x-python",
   "name": "python",
   "nbconvert_exporter": "python",
   "pygments_lexer": "ipython2",
   "version": "2.7.17"
  }
 },
 "nbformat": 4,
 "nbformat_minor": 4
}
