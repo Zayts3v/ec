{
 "cells": [
  {
   "cell_type": "markdown",
   "metadata": {},
   "source": [
    "# Implementação KEM do NTRU-Prime"
   ]
  },
  {
   "cell_type": "markdown",
   "metadata": {},
   "source": [
    "## Parameters"
   ]
  },
  {
   "cell_type": "code",
   "execution_count": 1,
   "metadata": {},
   "outputs": [],
   "source": [
    "def verifyW(p, q, w, indice):\n",
    "    while (2*p < 3*w):\n",
    "        indice = indice + 1\n",
    "        w = p//indice\n",
    "    \n",
    "    while (q < (16*w + 1)):\n",
    "        indice = indice + 1\n",
    "        w = p//indice\n",
    "\n",
    "    return w"
   ]
  },
  {
   "cell_type": "code",
   "execution_count": 2,
   "metadata": {},
   "outputs": [],
   "source": [
    "p = next_prime(120)\n",
    "q = next_prime(120)\n",
    "w = p//4\n",
    "\n",
    "w = verifyW(p,q,w,4)\n",
    "\n",
    "\n",
    "RingQ.<x> = PolynomialRing(GF(q),'x')\n",
    "if (x^p-x-1).is_irreducible() is False:\n",
    "    print(\"Error\\n\")\n",
    "\n",
    "Z = IntegerRing()\n",
    "Ring  = PolynomialRing(Z,'x')\n",
    "Ring3 = PolynomialRing(GF(3),'x')\n",
    "\n",
    "R  = QuotientRing(Ring, Ring.ideal(x^p-x-1))\n",
    "R3 = QuotientRing(Ring3, Ring3.ideal(x^p-x-1))\n",
    "Rq = QuotientRing(RingQ, RingQ.ideal(x^p-x-1))"
   ]
  },
  {
   "cell_type": "markdown",
   "metadata": {},
   "source": [
    "## Funções auxiliares"
   ]
  },
  {
   "cell_type": "code",
   "execution_count": 3,
   "metadata": {},
   "outputs": [],
   "source": [
    "def roundEach(f,b=None):\n",
    "    ff = list(f)\n",
    "    if b == None:\n",
    "        return ff\n",
    "    else:\n",
    "        fp = map(lift,[Mod(a,b) for a in ff])\n",
    "        return [u if u <= b//2 else u-b for u in fp ]\n",
    "\n",
    "def round3(f,b=None):\n",
    "    ff = list(f)\n",
    "    if b == None:\n",
    "        return ff\n",
    "    else:\n",
    "        fp = map(lift,[Mod(a,b) for a in ff])\n",
    "        return [u if u <= b//3 else u-b for u in fp ]\n",
    "\n",
    "def toR(vec):\n",
    "    return R(vec)\n",
    "\n",
    "def computeH(f,g):\n",
    "    _f = Rq(f)\n",
    "    _g = Rq(g)\n",
    "    \n",
    "    try:\n",
    "        hq = (_g/_f)\n",
    "        return (True,Rq([lift(a) for a in list(hq)]))\n",
    "    except:\n",
    "        return (False,0)"
   ]
  },
  {
   "cell_type": "code",
   "execution_count": 4,
   "metadata": {},
   "outputs": [],
   "source": [
    "import random as rn\n",
    "\n",
    "def small(P=p):\n",
    "    u = [rn.choice([-1,0,1]) for i in range(p)]\n",
    "    return u\n",
    "\n",
    "def smallW(P=p,W=w):\n",
    "    u = [rn.choice([-1,1]) for i in range(w)] + [0]*(p-w)\n",
    "    rn.shuffle(u)\n",
    "    return u"
   ]
  },
  {
   "cell_type": "code",
   "execution_count": 5,
   "metadata": {},
   "outputs": [],
   "source": [
    "def verifyG():\n",
    "    while True:\n",
    "        g = small()\n",
    "        if(R3(g).is_unit()):\n",
    "            break\n",
    "            \n",
    "    return g"
   ]
  },
  {
   "cell_type": "code",
   "execution_count": 6,
   "metadata": {},
   "outputs": [],
   "source": [
    "def formatC(ciphertext):\n",
    "    size = len(ciphertext)\n",
    "    \n",
    "    c = ciphertext[33:(size-1)].split(\",\")\n",
    "    \n",
    "    for i in range(len(c)):\n",
    "        c[i] = int(c[i])\n",
    "    \n",
    "    return c"
   ]
  },
  {
   "cell_type": "markdown",
   "metadata": {},
   "source": [
    "## Key generation, Encapsulate e Decapsulate"
   ]
  },
  {
   "cell_type": "code",
   "execution_count": 7,
   "metadata": {},
   "outputs": [],
   "source": [
    "import hashlib\n",
    "\n",
    "def KeyGen(j=q, k=p, l=w):\n",
    "    G = verifyG()\n",
    "    F = smallW()\n",
    "    f = 3 * toR(F)\n",
    "    g = toR(G)\n",
    "    h = Rq(g)/Rq(f)\n",
    "    _g = R3(g)^(-1)\n",
    "    return {'f': R(F), 'g': _g, 'pk' : h}\n",
    "\n",
    "def Encapsulate(pk):\n",
    "    Rr = smallW()\n",
    "    r = toR(Rr)\n",
    "    c = roundEach(Rq(pk)*Rq(r), b=q)\n",
    "    print r\n",
    "    fhash = hashlib.sha512()\n",
    "    fhash.update(str(Rr).encode('utf-8'))\n",
    "    divisao = fhash.digest()\n",
    "    C = divisao[:32]\n",
    "    K = divisao[32:]\n",
    "    c = str(c)\n",
    "    \n",
    "    return {'Cc': C+c, 'K': K}\n",
    "    \n",
    "def Decapsulate(ciphertext,f,g):\n",
    "    C = ciphertext[:32]\n",
    "    c = formatC(ciphertext)\n",
    "    F = Rq(3*f)\n",
    "    e = round3(F*Rq(c),b=q)\n",
    "    print e\n",
    "    l = R3(e)*q\n",
    "    rLinha = roundEach(l,b=3)\n",
    "    print rLinha\n",
    "    if True:\n",
    "        fhash = hashlib.sha512()\n",
    "        fhash.update(str(rLinha).encode('utf-8'))\n",
    "        divisao = fhash.digest()\n",
    "        CLinha = divisao[:32]\n",
    "        KLinha = divisao[32:]\n",
    "    \n",
    "    return base64.b64encode(KLinha)"
   ]
  },
  {
   "cell_type": "markdown",
   "metadata": {},
   "source": [
    "## Test"
   ]
  },
  {
   "cell_type": "code",
   "execution_count": 8,
   "metadata": {},
   "outputs": [],
   "source": [
    "import base64\n",
    "\n",
    "def run():\n",
    "    keys   = KeyGen()\n",
    "    crypto = Encapsulate(keys['pk'])\n",
    "    decryp = Decapsulate(crypto['Cc'],keys['f'],keys['g'])\n",
    "    return base64.b64encode(crypto['K'])==decryp"
   ]
  },
  {
   "cell_type": "code",
   "execution_count": 9,
   "metadata": {},
   "outputs": [
    {
     "name": "stdout",
     "output_type": "stream",
     "text": [
      "xbar^118 - xbar^83 + xbar^57 - xbar^50 - xbar^43 - xbar^24 + xbar^15\n",
      "[-1, -2, -1, -2, -3, -2, 0, 6, 6, 4, -1, -5, -3, 1, 1, -5, -3, 2, 3, 0, -1, 3, 1, -6, -2, 4, 3, 1, 2, 0, -3, -1, -2, -2, -1, 3, 5, 6, 2, 2, 2, -1, -3, -2, 0, -3, -2, 4, 0, 1, 2, -2, 1, 2, 0, 1, 1, 1, 1, 3, -2, -2, -1, -1, 2, -1, -5, -3, -2, -1, 0, 5, -4, -2, 0, -1, -1, 2, 2, -2, -2, 4, 0, -1, -1, 0, 2, 0, -6, -2, -2, -4, -1, 1, 0, 2, -2, 0, 1, -2, -1, 0, 3, -1, 2, 0, -3, -2, 0, 2, 2, 2, -2, -2, 2, 0, -1, 1, -1, -1, 0, 4, 0, 4, 6, 1, 2]\n",
      "[-1, 1, -1, 1, 0, 1, 0, 0, 0, 1, -1, 1, 0, 1, 1, 1, 0, -1, 0, 0, -1, 0, 1, 0, 1, 1, 0, 1, -1, 0, 0, -1, 1, 1, -1, 0, -1, 0, -1, -1, -1, -1, 0, 1, 0, 0, 1, 1, 0, 1, -1, 1, 1, -1, 0, 1, 1, 1, 1, 0, 1, 1, -1, -1, -1, -1, 1, 0, 1, -1, 0, -1, -1, 1, 0, -1, -1, -1, -1, 1, 1, 1, 0, -1, -1, 0, -1, 0, 0, 1, 1, -1, -1, 1, 0, -1, 1, 0, 1, 1, -1, 0, 0, -1, -1, 0, 0, 1, 0, -1, -1, -1, 1, 1, -1, 0, -1, 1, -1, -1, 0, 1, 0, 1, 0, 1, -1]\n"
     ]
    },
    {
     "data": {
      "text/plain": [
       "False"
      ]
     },
     "execution_count": 9,
     "metadata": {},
     "output_type": "execute_result"
    }
   ],
   "source": [
    "run()"
   ]
  },
  {
   "cell_type": "code",
   "execution_count": null,
   "metadata": {},
   "outputs": [],
   "source": []
  },
  {
   "cell_type": "code",
   "execution_count": null,
   "metadata": {},
   "outputs": [],
   "source": []
  },
  {
   "cell_type": "code",
   "execution_count": null,
   "metadata": {},
   "outputs": [],
   "source": []
  }
 ],
 "metadata": {
  "kernelspec": {
   "display_name": "SageMath 8.1",
   "language": "",
   "name": "sagemath"
  },
  "language_info": {
   "codemirror_mode": {
    "name": "ipython",
    "version": 2
   },
   "file_extension": ".py",
   "mimetype": "text/x-python",
   "name": "python",
   "nbconvert_exporter": "python",
   "pygments_lexer": "ipython2",
   "version": "2.7.17"
  }
 },
 "nbformat": 4,
 "nbformat_minor": 4
}
