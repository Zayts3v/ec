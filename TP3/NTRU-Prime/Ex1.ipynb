{
 "cells": [
  {
   "cell_type": "markdown",
   "metadata": {},
   "source": [
    "# Implementação KEM do NTRU-Prime"
   ]
  },
  {
   "cell_type": "markdown",
   "metadata": {},
   "source": [
    "## Parameters"
   ]
  },
  {
   "cell_type": "code",
   "execution_count": 1,
   "metadata": {},
   "outputs": [],
   "source": [
    "def randomprime(i):\n",
    "    return random_prime(2**i-1,True,2**(i-1))"
   ]
  },
  {
   "cell_type": "code",
   "execution_count": 2,
   "metadata": {},
   "outputs": [],
   "source": [
    "def verifyW(p, q, w, indice):\n",
    "    while (2*p < 3*w):\n",
    "        indice = indice-1\n",
    "        w = randomprime(indice)\n",
    "    \n",
    "    while (q < (16*w + 1)):\n",
    "        indice = indice-1\n",
    "        w = randomprime(indice)\n",
    "    \n",
    "    return w"
   ]
  },
  {
   "cell_type": "code",
   "execution_count": 3,
   "metadata": {},
   "outputs": [
    {
     "name": "stdout",
     "output_type": "stream",
     "text": [
      "167\n",
      "233\n",
      "131\n",
      "11\n"
     ]
    }
   ],
   "source": [
    "l = 8\n",
    "\n",
    "p = randomprime(l)\n",
    "q = randomprime(l)\n",
    "w = randomprime(l)\n",
    "\n",
    "print p\n",
    "print q\n",
    "print w\n",
    "\n",
    "w = verifyW(p,q,w,l)\n",
    "\n",
    "print w\n",
    "\n",
    "RingQ.<x> = PolynomialRing(GF(q),'x')\n",
    "(x^p-x-1).is_irreducible()\n",
    "\n",
    "Z = IntegerRing()\n",
    "Ring  = PolynomialRing(Z,'x')\n",
    "Ring3 = PolynomialRing(GF(3),'x')\n",
    "\n",
    "R  = QuotientRing(Ring, Ring.ideal(x^p-x-1))\n",
    "R3 = QuotientRing(Ring3, Ring3.ideal(x^p-x-1))\n",
    "Rq = QuotientRing(RingQ, RingQ.ideal(x^p-x-1))"
   ]
  },
  {
   "cell_type": "markdown",
   "metadata": {},
   "source": [
    "## Funções auxiliares"
   ]
  },
  {
   "cell_type": "code",
   "execution_count": 4,
   "metadata": {},
   "outputs": [],
   "source": [
    "def roundEach(f,b=None):\n",
    "    ff = list(f)\n",
    "    if b == None:\n",
    "        return ff\n",
    "    else:\n",
    "        fp = map(lift,[Mod(a,b) for a in ff])\n",
    "        return [u if u <= b//2 else u-b for u in fp ]\n",
    "\n",
    "def toR(vec):\n",
    "    return R(vec)\n",
    "\n",
    "def computeH(f,g):\n",
    "    _f = Rq(f)\n",
    "    _g = Rq(g)\n",
    "    \n",
    "    try:\n",
    "        hq = (_g/_f)\n",
    "        return (True,Rq([lift(a) for a in list(hq)]))\n",
    "    except:\n",
    "        return (False,0)"
   ]
  },
  {
   "cell_type": "code",
   "execution_count": 5,
   "metadata": {},
   "outputs": [],
   "source": [
    "import random as rn\n",
    "\n",
    "def small(P=p):\n",
    "    u = [rn.choice([-1,0,1]) for i in range(p)]\n",
    "    return u\n",
    "\n",
    "def smallW(P=p,W=w):\n",
    "    u = [rn.choice([-1,1]) for i in range(w)] + [0]*(p-w)\n",
    "    rn.shuffle(u)\n",
    "    return u"
   ]
  },
  {
   "cell_type": "code",
   "execution_count": 6,
   "metadata": {},
   "outputs": [],
   "source": [
    "def verifyG():\n",
    "    while True:\n",
    "        g = small()\n",
    "        \n",
    "        if(R3(g).is_unit()):\n",
    "            break\n",
    "            \n",
    "    return g\n",
    "\n",
    "def verifyF():\n",
    "    while True:\n",
    "        f = smallW()\n",
    "        \n",
    "        if(Rq(f).is_unit()):\n",
    "            break\n",
    "            \n",
    "    return f"
   ]
  },
  {
   "cell_type": "code",
   "execution_count": null,
   "metadata": {},
   "outputs": [],
   "source": [
    "def formatC(ciphertext):\n",
    "    c = ciphertext[33:(size-1)].split(\",\")\n",
    "    \n",
    "    for i in range(len(c)):\n",
    "        c[i] = int(c[i])\n",
    "    \n",
    "    return c"
   ]
  },
  {
   "cell_type": "markdown",
   "metadata": {},
   "source": [
    "## Key generation, Encapsulate e Decapsulate"
   ]
  },
  {
   "cell_type": "code",
   "execution_count": 7,
   "metadata": {},
   "outputs": [],
   "source": [
    "import hashlib\n",
    "\n",
    "def KeyGen(j=q, k=p, l=w):\n",
    "    while True:\n",
    "        G = verifyG()\n",
    "        F = smallW()\n",
    "        f = 1 + 3 * toR(F)\n",
    "        g = 3 * toR(G)\n",
    "        (flag, h) = computeH(f,g)\n",
    "        if flag:\n",
    "            _g = R3(G).inverse_of_unit()\n",
    "            break\n",
    "    return {'f': R(F), 'g': _g, 'pk' : h} \n",
    "\n",
    "def Encapsulate(plaintext,pk):\n",
    "    Rr = smallW()\n",
    "    r = toR(Rr)\n",
    "    m = toR(plaintext)\n",
    "    c = roundEach(pk*r + m, b=q)\n",
    "    fhash = hashlib.sha512()\n",
    "    fhash.update(str(Rr).encode('utf-8'))\n",
    "    divisao = fhash.digest()\n",
    "    C = divisao[:32]\n",
    "    K = divisao[32:]\n",
    "    c = str(c)\n",
    "    return {'Cc': C+c, 'K': K}\n",
    "    \n",
    "def Decapsulate(ciphertext,f,g):\n",
    "    C = ciphertext[:32]\n",
    "    print C\n",
    "    size = len(ciphertext)\n",
    "    print ciphertext[32:]\n",
    "    c = formatC(ciphertext)\n",
    "    print c\n",
    "   # e = toR(ciphertext)\n",
    "   # a = roundEach(sk*e, b=q)\n",
    "    return 1 #roundEach(toR(a), b=3)"
   ]
  },
  {
   "cell_type": "markdown",
   "metadata": {},
   "source": [
    "## Test"
   ]
  },
  {
   "cell_type": "code",
   "execution_count": 8,
   "metadata": {},
   "outputs": [],
   "source": [
    "import base64\n",
    "\n",
    "def run():\n",
    "    keys   = KeyGen()\n",
    "    plain  = small()\n",
    "    crypto = Encapsulate(plain,keys['pk'])\n",
    "    decryp = Decapsulate(crypto['Cc'],keys['f'],keys['g'])\n",
    "    return base64.b64encode(crypto['K'])"
   ]
  },
  {
   "cell_type": "code",
   "execution_count": 9,
   "metadata": {},
   "outputs": [
    {
     "name": "stdout",
     "output_type": "stream",
     "text": [
      "��'�Z�,�E�F�\f",
      "E�� L$�R\u0005㑾n�%��\u0001\n",
      "[53, -31, -77, -71, 17, 16, -3, -84, -57, -59, 8, 21, -27, 13, 94, -41, 0, -53, -80, 99, 1, -34, 62, -93, -114, -69, -26, 39, 60, 31, -78, -66, -57, -9, -112, 107, 52, 34, -29, 40, 32, -40, 108, -17, 73, 66, 14, 71, 94, 25, -70, 47, -102, -17, 66, 51, -44, 44, -29, 37, -116, -84, -48, 93, -103, -114, 40, 107, -55, 58, 41, -94, 80, -67, -110, -45, 32, 87, 104, 70, 28, 85, 46, 71, 110, 74, 49, 24, 22, 54, -36, 14, 115, -25, 90, -96, -89, 47, -68, 6, 110, 62, 103, 24, 2, -58, 73, 86, 0, -24, 12, 112, -94, -114, 21, -87, 7, 0, 20, -82, -113, 42, 90, 22, 53, -41, 33, 93, 80, 61, -94, 27, -88, -112, 86, 111, 39, -21, -54, -59, 78, -8, 94, 106, -78, 115, -66, -96, 84, -4, -60, -113, -16, -45, -106, 80, -100, 56, 54, -88, -55, 105, -76, 60, -11, 108, -43]\n",
      "[53, -31, -77, -71, 17, 16, -3, -84, -57, -59, 8, 21, -27, 13, 94, -41, 0, -53, -80, 99, 1, -34, 62, -93, -114, -69, -26, 39, 60, 31, -78, -66, -57, -9, -112, 107, 52, 34, -29, 40, 32, -40, 108, -17, 73, 66, 14, 71, 94, 25, -70, 47, -102, -17, 66, 51, -44, 44, -29, 37, -116, -84, -48, 93, -103, -114, 40, 107, -55, 58, 41, -94, 80, -67, -110, -45, 32, 87, 104, 70, 28, 85, 46, 71, 110, 74, 49, 24, 22, 54, -36, 14, 115, -25, 90, -96, -89, 47, -68, 6, 110, 62, 103, 24, 2, -58, 73, 86, 0, -24, 12, 112, -94, -114, 21, -87, 7, 0, 20, -82, -113, 42, 90, 22, 53, -41, 33, 93, 80, 61, -94, 27, -88, -112, 86, 111, 39, -21, -54, -59, 78, -8, 94, 106, -78, 115, -66, -96, 84, -4, -60, -113, -16, -45, -106, 80, -100, 56, 54, -88, -55, 105, -76, 60, -11, 108, -43]\n"
     ]
    },
    {
     "data": {
      "text/plain": [
       "'6ZFlLrSTSq10hxg0LhPakigC3PXCyeLMKGLlkXCvQUc='"
      ]
     },
     "execution_count": 9,
     "metadata": {},
     "output_type": "execute_result"
    }
   ],
   "source": [
    "run()"
   ]
  },
  {
   "cell_type": "code",
   "execution_count": null,
   "metadata": {},
   "outputs": [],
   "source": []
  }
 ],
 "metadata": {
  "kernelspec": {
   "display_name": "SageMath 8.1",
   "language": "",
   "name": "sagemath"
  },
  "language_info": {
   "codemirror_mode": {
    "name": "ipython",
    "version": 2
   },
   "file_extension": ".py",
   "mimetype": "text/x-python",
   "name": "python",
   "nbconvert_exporter": "python",
   "pygments_lexer": "ipython2",
   "version": "2.7.17"
  }
 },
 "nbformat": 4,
 "nbformat_minor": 4
}
