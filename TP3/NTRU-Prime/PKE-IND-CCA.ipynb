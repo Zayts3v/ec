{
 "cells": [
  {
   "cell_type": "markdown",
   "metadata": {},
   "source": [
    "# Implementação do PKE-IND-CCA (NTRU-PRIME)"
   ]
  },
  {
   "cell_type": "code",
   "execution_count": 1,
   "metadata": {},
   "outputs": [],
   "source": [
    "def randomprime(i):\n",
    "    return random_prime(2**i-1,True,2**(i-1))"
   ]
  },
  {
   "cell_type": "code",
   "execution_count": 2,
   "metadata": {},
   "outputs": [],
   "source": [
    "def verifyW(p, q, w, indice):\n",
    "    while (2*p < 3*w):\n",
    "        indice = indice-1\n",
    "        w = randomprime(indice)\n",
    "    \n",
    "    while (q < (16*w + 1)):\n",
    "        indice = indice-1\n",
    "        w = randomprime(indice)\n",
    "    \n",
    "    return w"
   ]
  },
  {
   "cell_type": "markdown",
   "metadata": {},
   "source": [
    "- p\n",
    "- q\n",
    "- w"
   ]
  },
  {
   "cell_type": "code",
   "execution_count": 3,
   "metadata": {},
   "outputs": [
    {
     "name": "stdout",
     "output_type": "stream",
     "text": [
      "199\n",
      "193\n",
      "227\n",
      "11\n"
     ]
    }
   ],
   "source": [
    "l = 8\n",
    "\n",
    "p = randomprime(l)\n",
    "q = randomprime(l)\n",
    "w = randomprime(l)\n",
    "\n",
    "print p\n",
    "print q\n",
    "print w\n",
    "\n",
    "w = verifyW(p,q,w,l)\n",
    "\n",
    "print w\n",
    "\n",
    "RingQ.<x> = PolynomialRing(GF(q),'x')\n",
    "(x^p-x-1).is_irreducible()\n",
    "\n",
    "Z = IntegerRing()\n",
    "Ring  = PolynomialRing(Z,'x')\n",
    "Ring3 = PolynomialRing(GF(3),'x')\n",
    "\n",
    "R  = QuotientRing(Ring, Ring.ideal(x^p-x-1))\n",
    "R3 = QuotientRing(Ring3, Ring3.ideal(x^p-x-1))\n",
    "Rq = QuotientRing(RingQ, RingQ.ideal(x^p-x-1))"
   ]
  },
  {
   "cell_type": "code",
   "execution_count": 4,
   "metadata": {},
   "outputs": [],
   "source": [
    "def roundEach(f,b=None):\n",
    "    ff = list(f)\n",
    "    if b == None:\n",
    "        return ff\n",
    "    else:\n",
    "        fp = map(lift,[Mod(a,b) for a in ff])\n",
    "        return [u if u <= b//2 else u-b for u in fp ]\n",
    "\n",
    "def toR(vec):\n",
    "    return R(vec)\n",
    "\n",
    "def _h(f,g):\n",
    "    _f = Rq(roundEach(f)) ; _g = Rq(roundEach(g))\n",
    "    try:\n",
    "        fq = _f.inverse_of_unit()\n",
    "        hq = fq * _g\n",
    "        return (True,toR([lift(a) for a in list(hq)]))\n",
    "    except:\n",
    "        return (False,0)"
   ]
  },
  {
   "cell_type": "code",
   "execution_count": 5,
   "metadata": {},
   "outputs": [],
   "source": [
    "import random as rn\n",
    "\n",
    "def small(P=p):\n",
    "    u = [rn.choice([-1,0,1]) for i in range(p)]\n",
    "    return u\n",
    "\n",
    "def smallW(P=p,W=w):\n",
    "    u = [rn.choice([-1,1]) for i in range(w)] + [0]*(p-w)\n",
    "    rn.shuffle(u)\n",
    "    return u"
   ]
  },
  {
   "cell_type": "code",
   "execution_count": 6,
   "metadata": {},
   "outputs": [],
   "source": [
    "def KeyGen(j=q, k=p, l=w):\n",
    "    while True:\n",
    "        G = small()\n",
    "        F = smallW()\n",
    "        f = 1 + 3 * toR(F)\n",
    "        g = 3 * toR(G)\n",
    "        (flag, h) = _h(f,g)\n",
    "        if flag:\n",
    "            break\n",
    "    return {'sk' : f , 'pk' : h} \n",
    "\n",
    "def Encapsulate(plaintext,pk):\n",
    "    r = toR(smallW())\n",
    "    m = toR(plaintext)\n",
    "    return roundEach(pk*r + m, b=q)\n",
    "\n",
    "def Decapsulate(ciphertext,sk):\n",
    "    e = toR(ciphertext)\n",
    "    a = roundEach(sk*e, b=q)\n",
    "    return roundEach(toR(a), b=3)\n",
    "    \n",
    "def run():\n",
    "    keys   = KeyGen()\n",
    "    plain  = small()\n",
    "    crypto = Encapsulate(plain,keys['pk'])\n",
    "    decryp = Decapsulate(crypto,keys['sk'])\n",
    "    return plain == decryp"
   ]
  },
  {
   "cell_type": "code",
   "execution_count": 7,
   "metadata": {},
   "outputs": [
    {
     "data": {
      "text/plain": [
       "True"
      ]
     },
     "execution_count": 7,
     "metadata": {},
     "output_type": "execute_result"
    }
   ],
   "source": [
    "run()"
   ]
  },
  {
   "cell_type": "code",
   "execution_count": null,
   "metadata": {},
   "outputs": [],
   "source": []
  }
 ],
 "metadata": {
  "kernelspec": {
   "display_name": "SageMath 8.1",
   "language": "",
   "name": "sagemath"
  },
  "language_info": {
   "codemirror_mode": {
    "name": "ipython",
    "version": 2
   },
   "file_extension": ".py",
   "mimetype": "text/x-python",
   "name": "python",
   "nbconvert_exporter": "python",
   "pygments_lexer": "ipython2",
   "version": "2.7.17"
  }
 },
 "nbformat": 4,
 "nbformat_minor": 4
}
