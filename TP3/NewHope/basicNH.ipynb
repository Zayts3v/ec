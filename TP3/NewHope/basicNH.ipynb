{
 "cells": [
  {
   "cell_type": "code",
   "execution_count": null,
   "metadata": {},
   "outputs": [],
   "source": [
    "class NTT(object):\n",
    "#    \n",
    "    def __init__(self, n=128):\n",
    "        if not any([n == t for t in [32,64,128,256,512,1024,2048]]):\n",
    "            raise ValueError(\"improper argument \",n)\n",
    "        self.n = n  \n",
    "        self.q = 1 + 2*n\n",
    "        while True:\n",
    "            if (self.q).is_prime():\n",
    "                break\n",
    "            self.q += 2*n\n",
    "            \n",
    "        self.F = GF(self.q) ;  self.R = PolynomialRing(self.F, name=\"w\")\n",
    "        w = (self.R).gen(); self.w = w\n",
    "        \n",
    "        g = (w^n + 1)\n",
    "        xi = g.roots(multiplicities=False)[-1]\n",
    "        self.xi = xi\n",
    "        rs = [xi^(2*i+1)  for i in range(n)] \n",
    "        self.base = crt_basis([(w - r) for r in rs])  \n",
    "    \n",
    "    \n",
    "    def ntt(self,f):\n",
    "        def _expand_(f): \n",
    "            u = f.list()\n",
    "            return u + [0]*(self.n-len(u)) \n",
    "        \n",
    "        def _ntt_(xi,N,f):\n",
    "            if N==1:\n",
    "                return f\n",
    "            N_ = N/2 ; xi2 =  xi^2  \n",
    "            f0 = [f[2*i]   for i in range(N_)] ; f1 = [f[2*i+1] for i in range(N_)] \n",
    "            ff0 = _ntt_(xi2,N_,f0) ; ff1 = _ntt_(xi2,N_,f1)  \n",
    "    \n",
    "            s  = xi ; ff = [self.F(0) for i in range(N)] \n",
    "            for i in range(N_):\n",
    "                a = ff0[i] ; b = s*ff1[i]  \n",
    "                ff[i] = a + b ; ff[i + N_] = a - b \n",
    "                s = s * xi2                     \n",
    "            return ff \n",
    "        \n",
    "        return _ntt_(self.xi,self.n,_expand_(f))\n",
    "        \n",
    "    def ntt_inv(self,ff):                              ## transformada inversa\n",
    "        return sum([ff[i]*self.base[i] for i in range(self.n)])\n",
    "    \n",
    "    def random_pol(self,args=None):\n",
    "        return (self.R).random_element(args)"
   ]
  },
  {
   "cell_type": "code",
   "execution_count": 19,
   "metadata": {},
   "outputs": [],
   "source": [
    "# Parâmetros do NewHope\n",
    "\n",
    "n = 1024\n",
    "q = 12289\n",
    "\n",
    "if n != 2^(log(n,2)) or not is_prime(q) or q < n or q%(2*n) != 1:\n",
    "    raise ValueError(f\"os parâmetros n={n} e q={q} não verificam as condições do esquema NewHope\")\n",
    "    \n",
    "# noise\n",
    "k = 8\n",
    "\n",
    "T = NTT(1024)"
   ]
  },
  {
   "cell_type": "code",
   "execution_count": 20,
   "metadata": {},
   "outputs": [],
   "source": [
    "## Os anéis usuais com o módulo ciclotómico\n",
    "\n",
    "R_.<w> = ZZ[]\n",
    "R.<x>  = QuotientRing(R_,R_.ideal(w^n+1))\n",
    "\n",
    "Rq_.<w> = GF(q)[]\n",
    "Rq.<x>  = QuotientRing(Rq_,Rq_.ideal(w^n+1))"
   ]
  },
  {
   "cell_type": "code",
   "execution_count": 21,
   "metadata": {},
   "outputs": [],
   "source": [
    "# Geradores aleatorios\n",
    "\n",
    "import random, os\n",
    "\n",
    "random.seed(os.urandom(8))         # gerar seeds diferentes para cada execução\n",
    "\n",
    "def random_pol(n=n):\n",
    "    p = R_.random_element(n)\n",
    "    return Rq(p)\n",
    "\n",
    "def chi(k=k):\n",
    "    samples = range(2*k)\n",
    "    return sum([random.choice([-1,1]) for _ in samples])\n",
    "\n",
    "\n",
    "def random_err(n=n):\n",
    "    return Rq([chi() for _ in range(n)])"
   ]
  },
  {
   "cell_type": "code",
   "execution_count": 14,
   "metadata": {},
   "outputs": [],
   "source": [
    "## messages\n",
    "\n",
    "d = GF(q)((q-1)//2)      # o elemento mais afastado de zero\n",
    "\n",
    "def encode(m):\n",
    "    return d*Rq(m)\n",
    "\n",
    "def dq(x,y=0):     # distancia entre elementos de GF(q)\n",
    "    x_ = lift(x-y)\n",
    "    return min(x_,q-x_)\n",
    "\n",
    "def decode(p):      # p está em Rq\n",
    "    return [0 if dq(x) < dq(x,d) else 1 for x in p.list()]"
   ]
  },
  {
   "cell_type": "code",
   "execution_count": 22,
   "metadata": {},
   "outputs": [
    {
     "ename": "TypeError",
     "evalue": "'<=' not supported between instances of 'NoneType' and 'int'",
     "output_type": "error",
     "traceback": [
      "\u001b[0;31m---------------------------------------------------------------------------\u001b[0m",
      "\u001b[0;31mTypeError\u001b[0m                                 Traceback (most recent call last)",
      "\u001b[0;32m<ipython-input-22-2f65f179a614>\u001b[0m in \u001b[0;36m<module>\u001b[0;34m()\u001b[0m\n\u001b[1;32m      2\u001b[0m \u001b[0;34m\u001b[0m\u001b[0m\n\u001b[1;32m      3\u001b[0m \u001b[0;31m# chave privada\u001b[0m\u001b[0;34m\u001b[0m\u001b[0;34m\u001b[0m\u001b[0;34m\u001b[0m\u001b[0m\n\u001b[0;32m----> 4\u001b[0;31m \u001b[0me\u001b[0m \u001b[0;34m=\u001b[0m \u001b[0mT\u001b[0m\u001b[0;34m.\u001b[0m\u001b[0mrandom_pol\u001b[0m\u001b[0;34m(\u001b[0m\u001b[0;34m)\u001b[0m\u001b[0;34m\u001b[0m\u001b[0;34m\u001b[0m\u001b[0m\n\u001b[0m\u001b[1;32m      5\u001b[0m \u001b[0ms\u001b[0m \u001b[0;34m=\u001b[0m \u001b[0mT\u001b[0m\u001b[0;34m.\u001b[0m\u001b[0mrandom_pol\u001b[0m\u001b[0;34m(\u001b[0m\u001b[0;34m)\u001b[0m\u001b[0;34m\u001b[0m\u001b[0;34m\u001b[0m\u001b[0m\n\u001b[1;32m      6\u001b[0m \u001b[0;34m\u001b[0m\u001b[0m\n",
      "\u001b[0;32m<ipython-input-2-fe9ffa51de55>\u001b[0m in \u001b[0;36mrandom_pol\u001b[0;34m(self, args)\u001b[0m\n\u001b[1;32m     46\u001b[0m \u001b[0;34m\u001b[0m\u001b[0m\n\u001b[1;32m     47\u001b[0m     \u001b[0;32mdef\u001b[0m \u001b[0mrandom_pol\u001b[0m\u001b[0;34m(\u001b[0m\u001b[0mself\u001b[0m\u001b[0;34m,\u001b[0m\u001b[0margs\u001b[0m\u001b[0;34m=\u001b[0m\u001b[0;32mNone\u001b[0m\u001b[0;34m)\u001b[0m\u001b[0;34m:\u001b[0m\u001b[0;34m\u001b[0m\u001b[0;34m\u001b[0m\u001b[0m\n\u001b[0;32m---> 48\u001b[0;31m         \u001b[0;32mreturn\u001b[0m \u001b[0;34m(\u001b[0m\u001b[0mself\u001b[0m\u001b[0;34m.\u001b[0m\u001b[0mR\u001b[0m\u001b[0;34m)\u001b[0m\u001b[0;34m.\u001b[0m\u001b[0mrandom_element\u001b[0m\u001b[0;34m(\u001b[0m\u001b[0margs\u001b[0m\u001b[0;34m)\u001b[0m\u001b[0;34m\u001b[0m\u001b[0;34m\u001b[0m\u001b[0m\n\u001b[0m",
      "\u001b[0;32m/opt/sagemath-9.0/local/lib/python3.7/site-packages/sage/rings/polynomial/polynomial_ring.py\u001b[0m in \u001b[0;36mrandom_element\u001b[0;34m(self, degree, *args, **kwds)\u001b[0m\n\u001b[1;32m   1390\u001b[0m             \u001b[0mdegree\u001b[0m \u001b[0;34m=\u001b[0m \u001b[0;34m(\u001b[0m\u001b[0mdegree\u001b[0m\u001b[0;34m,\u001b[0m\u001b[0mdegree\u001b[0m\u001b[0;34m)\u001b[0m\u001b[0;34m\u001b[0m\u001b[0;34m\u001b[0m\u001b[0m\n\u001b[1;32m   1391\u001b[0m \u001b[0;34m\u001b[0m\u001b[0m\n\u001b[0;32m-> 1392\u001b[0;31m         \u001b[0;32mif\u001b[0m \u001b[0mdegree\u001b[0m\u001b[0;34m[\u001b[0m\u001b[0;36m0\u001b[0m\u001b[0;34m]\u001b[0m \u001b[0;34m<=\u001b[0m \u001b[0;34m-\u001b[0m\u001b[0;36m2\u001b[0m\u001b[0;34m:\u001b[0m\u001b[0;34m\u001b[0m\u001b[0;34m\u001b[0m\u001b[0m\n\u001b[0m\u001b[1;32m   1393\u001b[0m             \u001b[0;32mraise\u001b[0m \u001b[0mValueError\u001b[0m\u001b[0;34m(\u001b[0m\u001b[0;34m\"degree should be an integer greater or equal than -1\"\u001b[0m\u001b[0;34m)\u001b[0m\u001b[0;34m\u001b[0m\u001b[0;34m\u001b[0m\u001b[0m\n\u001b[1;32m   1394\u001b[0m \u001b[0;34m\u001b[0m\u001b[0m\n",
      "\u001b[0;31mTypeError\u001b[0m: '<=' not supported between instances of 'NoneType' and 'int'"
     ]
    }
   ],
   "source": [
    "## KeyGen\n",
    "\n",
    "# chave privada\n",
    "e = T.random_pol()\n",
    "s = T.random_pol()\n",
    "\n",
    "## chave publica\n",
    "a = random_pol()\n",
    "b = a*s + e"
   ]
  },
  {
   "cell_type": "code",
   "execution_count": 16,
   "metadata": {},
   "outputs": [],
   "source": [
    "## Encrypt\n",
    "m = [random.choice([0,1]) for _ in range(n)]       # mensagem aleatória\n",
    "\n",
    "r  = random_err()\n",
    "e0 = random_err()\n",
    "e1 = random_err()\n",
    "\n",
    "u = a*r + e0\n",
    "v = b*r + e1 + encode(m)"
   ]
  },
  {
   "cell_type": "code",
   "execution_count": 17,
   "metadata": {},
   "outputs": [],
   "source": [
    "## Decrypt\n",
    "\n",
    "m1 = decode(v - u*s)"
   ]
  },
  {
   "cell_type": "code",
   "execution_count": 18,
   "metadata": {},
   "outputs": [
    {
     "data": {
      "text/plain": [
       "True"
      ]
     },
     "execution_count": 18,
     "metadata": {},
     "output_type": "execute_result"
    }
   ],
   "source": [
    "m == m1"
   ]
  }
 ],
 "metadata": {
  "kernelspec": {
   "display_name": "SageMath 9.0",
   "language": "sage",
   "name": "sagemath"
  },
  "language_info": {
   "codemirror_mode": {
    "name": "ipython",
    "version": 3
   },
   "file_extension": ".py",
   "mimetype": "text/x-python",
   "name": "python",
   "nbconvert_exporter": "python",
   "pygments_lexer": "ipython3",
   "version": "3.7.3"
  }
 },
 "nbformat": 4,
 "nbformat_minor": 4
}
