{
 "cells": [
  {
   "cell_type": "code",
   "execution_count": 6,
   "metadata": {},
   "outputs": [],
   "source": [
    "# Parâmetros do NewHope\n",
    "\n",
    "n = 1024\n",
    "q = 12289\n",
    "\n",
    "if n != 2^(log(n,2)) or not is_prime(q) or q < n or q%(2*n) != 1:\n",
    "    raise ValueError(f\"os parâmetros n={n} e q={q} não verificam as condições do esquema NewHope\")\n",
    "    \n",
    "# noise\n",
    "k = 8"
   ]
  },
  {
   "cell_type": "code",
   "execution_count": 7,
   "metadata": {},
   "outputs": [],
   "source": [
    "## Os anéis usuais com o módulo ciclotómico\n",
    "\n",
    "R_.<w> = ZZ[]\n",
    "R.<x>  = QuotientRing(R_,R_.ideal(w^n+1))\n",
    "\n",
    "Rq_.<w> = GF(q)[]\n",
    "Rq.<x>  = QuotientRing(Rq_,Rq_.ideal(w^n+1))"
   ]
  },
  {
   "cell_type": "code",
   "execution_count": 8,
   "metadata": {},
   "outputs": [],
   "source": [
    "# Geradores aleatorios\n",
    "\n",
    "import random, os\n",
    "\n",
    "random.seed(os.urandom(8))         # gerar seeds diferentes para cada execução\n",
    "\n",
    "def random_pol(n=n):\n",
    "    p = R_.random_element(n)\n",
    "    return Rq(p)\n",
    "\n",
    "def chi(k=k):\n",
    "    samples = range(2*k)\n",
    "    return sum([random.choice([-1,1]) for _ in samples])\n",
    "\n",
    "\n",
    "def random_err(n=n):\n",
    "    return Rq([chi() for _ in range(n)])"
   ]
  },
  {
   "cell_type": "code",
   "execution_count": 9,
   "metadata": {},
   "outputs": [],
   "source": [
    "## messages\n",
    "\n",
    "d = GF(q)((q-1)//2)      # o elemento mais afastado de zero\n",
    "\n",
    "def encode(m):\n",
    "    return d*Rq(m)\n",
    "\n",
    "def dq(x,y=0):     # distancia entre elementos de GF(q)\n",
    "    x_ = lift(x-y)\n",
    "    return min(x_,q-x_)\n",
    "\n",
    "def decode(p):      # p está em Rq\n",
    "    return [0 if dq(x) < dq(x,d) else 1 for x in p.list()]"
   ]
  },
  {
   "cell_type": "code",
   "execution_count": 10,
   "metadata": {},
   "outputs": [],
   "source": [
    "## KeyGen\n",
    "\n",
    "# chave privada\n",
    "e = random_err()\n",
    "s = random_err()\n",
    "\n",
    "## chave publica\n",
    "a = random_pol()\n",
    "b = a*s + e"
   ]
  },
  {
   "cell_type": "code",
   "execution_count": 11,
   "metadata": {},
   "outputs": [],
   "source": [
    "## Encrypt\n",
    "m = [random.choice([0,1]) for _ in range(n)]       # mensagem aleatória\n",
    "\n",
    "r  = random_err()\n",
    "e0 = random_err()\n",
    "e1 = random_err()\n",
    "\n",
    "u = a*r + e0\n",
    "v = b*r + e1 + encode(m)"
   ]
  },
  {
   "cell_type": "code",
   "execution_count": 12,
   "metadata": {},
   "outputs": [],
   "source": [
    "## Decrypt\n",
    "\n",
    "m1 = decode(v - u*s)"
   ]
  },
  {
   "cell_type": "code",
   "execution_count": 13,
   "metadata": {},
   "outputs": [
    {
     "data": {
      "text/plain": [
       "True"
      ]
     },
     "execution_count": 13,
     "metadata": {},
     "output_type": "execute_result"
    }
   ],
   "source": [
    "m == m1"
   ]
  },
  {
   "cell_type": "code",
   "execution_count": null,
   "metadata": {},
   "outputs": [],
   "source": []
  }
 ],
 "metadata": {
  "kernelspec": {
   "display_name": "SageMath 9.0",
   "language": "sage",
   "name": "sagemath"
  },
  "language_info": {
   "codemirror_mode": {
    "name": "ipython",
    "version": 3
   },
   "file_extension": ".py",
   "mimetype": "text/x-python",
   "name": "python",
   "nbconvert_exporter": "python",
   "pygments_lexer": "ipython3",
   "version": "3.7.3"
  }
 },
 "nbformat": 4,
 "nbformat_minor": 4
}
