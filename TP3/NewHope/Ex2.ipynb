{
 "cells": [
  {
   "cell_type": "markdown",
   "metadata": {},
   "source": [
    "### Number Theoretic Transform - CRT\n",
    "\n",
    "\n",
    "http://doc.sagemath.org/html/en/reference/polynomial_rings/sage/rings/polynomial/polynomial_element_generic.html"
   ]
  },
  {
   "cell_type": "code",
   "execution_count": 1,
   "metadata": {},
   "outputs": [],
   "source": [
    "class NTT(object):\n",
    "#    \n",
    "    def __init__(self, n=128):\n",
    "        if not any([n == t for t in [32,64,128,256,512,1024,2048]]):\n",
    "            raise ValueError(\"improper argument \",n)\n",
    "        self.n = n  \n",
    "        self.q = 1 + 2*n\n",
    "        while True:\n",
    "            if (self.q).is_prime():\n",
    "                break\n",
    "            self.q += 2*n\n",
    "            \n",
    "        self.F = GF(self.q) ;  self.R = PolynomialRing(self.F, name=\"w\")\n",
    "        w = (self.R).gen(); self.w = w\n",
    "        \n",
    "        g = (w^n + 1)\n",
    "        xi = g.roots(multiplicities=False)[-1]\n",
    "        self.xi = xi\n",
    "        rs = [xi^(2*i+1)  for i in range(n)] \n",
    "        self.base = crt_basis([(w - r) for r in rs])  \n",
    "    \n",
    "    \n",
    "    def ntt(self,f):\n",
    "        def _expand_(f): \n",
    "            u = f.list()\n",
    "            return u + [0]*(self.n-len(u)) \n",
    "        \n",
    "        def _ntt_(xi,N,f):\n",
    "            if N==1:\n",
    "                return f\n",
    "            N_ = N/2 ; xi2 =  xi^2  \n",
    "            f0 = [f[2*i]   for i in range(N_)] ; f1 = [f[2*i+1] for i in range(N_)] \n",
    "            ff0 = _ntt_(xi2,N_,f0) ; ff1 = _ntt_(xi2,N_,f1)  \n",
    "    \n",
    "            s  = xi ; ff = [self.F(0) for i in range(N)] \n",
    "            for i in range(N_):\n",
    "                a = ff0[i] ; b = s*ff1[i]  \n",
    "                ff[i] = a + b ; ff[i + N_] = a - b \n",
    "                s = s * xi2                     \n",
    "            return ff \n",
    "        \n",
    "        return _ntt_(self.xi,self.n,_expand_(f))\n",
    "        \n",
    "    def ntt_inv(self,ff):                              ## transformada inversa\n",
    "        return sum([ff[i]*self.base[i] for i in range(self.n)])\n",
    "    \n",
    "    def random_pol(self,args=None):\n",
    "        return (self.R).random_element(args)"
   ]
  },
  {
   "cell_type": "code",
   "execution_count": 2,
   "metadata": {},
   "outputs": [
    {
     "name": "stdout",
     "output_type": "stream",
     "text": [
      "Correto ?  True\n"
     ]
    }
   ],
   "source": [
    "# Teste\n",
    "\n",
    "T = NTT(2048)\n",
    "\n",
    "f = T.random_pol(64)\n",
    "# print(f)\n",
    "\n",
    "ff = T.ntt(f)\n",
    "\n",
    "fff = T.ntt_inv(ff)\n",
    "\n",
    "# print(fff)\n",
    "print(\"Correto ? \",f == fff)"
   ]
  }
 ],
 "metadata": {
  "kernelspec": {
   "display_name": "SageMath 9.0",
   "language": "sage",
   "name": "sagemath"
  },
  "language_info": {
   "codemirror_mode": {
    "name": "ipython",
    "version": 3
   },
   "file_extension": ".py",
   "mimetype": "text/x-python",
   "name": "python",
   "nbconvert_exporter": "python",
   "pygments_lexer": "ipython3",
   "version": "3.7.3"
  }
 },
 "nbformat": 4,
 "nbformat_minor": 4
}
